{
 "cells": [
  {
   "cell_type": "code",
   "execution_count": 1,
   "metadata": {},
   "outputs": [
    {
     "name": "stderr",
     "output_type": "stream",
     "text": [
      "┌ Info: activating environment at `~/src/msr_talk/Project.toml`.\n",
      "└ @ Pkg.API /Users/sabae/tmp/julia-build/julia-release-1.2/usr/share/julia/stdlib/v1.2/Pkg/src/API.jl:564\n"
     ]
    },
    {
     "name": "stdout",
     "output_type": "stream",
     "text": [
      "\u001b[32m\u001b[1m  Updating\u001b[22m\u001b[39m registry at `~/.julia/registries/General`\n",
      "\u001b[32m\u001b[1m  Updating\u001b[22m\u001b[39m git-repo `https://github.com/JuliaRegistries/General.git`\n",
      "\u001b[?25l\u001b[2K\u001b[?25h"
     ]
    }
   ],
   "source": [
    "# Initialize environment in current directory, to load\n",
    "import Pkg; Pkg.activate(@__DIR__); Pkg.instantiate()\n",
    "using Zygote"
   ]
  },
  {
   "cell_type": "code",
   "execution_count": 31,
   "metadata": {},
   "outputs": [
    {
     "data": {
      "text/plain": [
       "iterative_pow (generic function with 1 method)"
      ]
     },
     "execution_count": 31,
     "metadata": {},
     "output_type": "execute_result"
    }
   ],
   "source": [
    "function iterative_pow(x, p::Int)\n",
    "    while p > 1\n",
    "        x = x*x\n",
    "        p -= 1\n",
    "    end\n",
    "    return x\n",
    "end"
   ]
  },
  {
   "cell_type": "code",
   "execution_count": 32,
   "metadata": {},
   "outputs": [
    {
     "name": "stdout",
     "output_type": "stream",
     "text": [
      "y = 65536.0\n",
      "J(1.0) = (524288.0, nothing)\n"
     ]
    },
    {
     "data": {
      "text/plain": [
       "(524288.0, nothing)"
      ]
     },
     "execution_count": 32,
     "metadata": {},
     "output_type": "execute_result"
    }
   ],
   "source": [
    "y, J = Zygote.forward(iterative_pow, 2.0, 5)\n",
    "\n",
    "@show y\n",
    "@show J(1.0)"
   ]
  },
  {
   "cell_type": "code",
   "execution_count": 35,
   "metadata": {
    "scrolled": false
   },
   "outputs": [
    {
     "name": "stdout",
     "output_type": "stream",
     "text": [
      "\t.section\t__TEXT,__text,regular,pure_instructions\n",
      "; ┌ @ interface.jl:38 within `#34'\n",
      "\tpushq\t%rbp\n",
      "\tmovq\t%rsp, %rbp\n",
      "\tpushq\t%r15\n",
      "\tpushq\t%r14\n",
      "\tpushq\t%r13\n",
      "\tpushq\t%r12\n",
      "\tpushq\t%rbx\n",
      "\tandq\t$-32, %rsp\n",
      "\tsubq\t$96, %rsp\n",
      "\tvmovsd\t%xmm0, 64(%rsp)\n",
      "\tmovq\t%rdi, %rbx\n",
      "\tvxorps\t%xmm0, %xmm0, %xmm0\n",
      "\tvmovaps\t%ymm0, 32(%rsp)\n",
      "\tmovabsq\t$jl_get_ptls_states_fast, %rax\n",
      "\tvzeroupper\n",
      "\tcallq\t*%rax\n",
      "\tmovq\t%rax, %r14\n",
      "\tmovq\t$4, 32(%rsp)\n",
      "\tmovq\t(%r14), %rax\n",
      "\tmovq\t%rax, 40(%rsp)\n",
      "\tleaq\t32(%rsp), %rax\n",
      "\tmovq\t%rax, (%r14)\n",
      "\tmovq\t(%rbx), %rdi\n",
      "\tmovabsq\t$Pullback, %rax\n",
      "\tvmovsd\t64(%rsp), %xmm0         ## xmm0 = mem[0],zero\n",
      "\tcallq\t*%rax\n",
      "\tmovq\t%rax, %rbx\n",
      "\tmovq\t%rbx, 48(%rsp)\n",
      "; │┌ @ interface.jl:34 within `tailmemaybe'\n",
      "; ││┌ @ essentials.jl:201 within `tail'\n",
      "\tmovq\t%rbx, 16(%rsp)\n",
      "\tmovabsq\t$4548353680, %rax       ## imm = 0x10F1A5E90\n",
      "\tmovq\t%rax, 24(%rsp)\n",
      "\tmovabsq\t$jl_f_getfield, %r13\n",
      "\tleaq\t16(%rsp), %r15\n",
      "\txorl\t%edi, %edi\n",
      "\tmovl\t$2, %edx\n",
      "\tmovq\t%r15, %rsi\n",
      "\tcallq\t*%r13\n",
      "\tmovq\t%rax, %r12\n",
      "\tmovq\t%r12, 56(%rsp)\n",
      "\tmovq\t%rbx, 16(%rsp)\n",
      "\tmovabsq\t$4548353744, %rax       ## imm = 0x10F1A5ED0\n",
      "\tmovq\t%rax, 24(%rsp)\n",
      "\txorl\t%edi, %edi\n",
      "\tmovl\t$2, %edx\n",
      "\tmovq\t%r15, %rsi\n",
      "\tcallq\t*%r13\n",
      "\tmovq\t%rax, 48(%rsp)\n",
      "\tmovq\t%r12, 16(%rsp)\n",
      "\tmovq\t%rax, 24(%rsp)\n",
      "\tmovabsq\t$jl_f_tuple, %rax\n",
      "\txorl\t%edi, %edi\n",
      "\tmovl\t$2, %edx\n",
      "\tmovq\t%r15, %rsi\n",
      "\tcallq\t*%rax\n",
      "; │└└\n",
      "\tmovq\t40(%rsp), %rcx\n",
      "\tmovq\t%rcx, (%r14)\n",
      "\tleaq\t-40(%rbp), %rsp\n",
      "\tpopq\t%rbx\n",
      "\tpopq\t%r12\n",
      "\tpopq\t%r13\n",
      "\tpopq\t%r14\n",
      "\tpopq\t%r15\n",
      "\tpopq\t%rbp\n",
      "\tretq\n",
      "\tnopw\t%cs:(%rax,%rax)\n",
      "; └\n"
     ]
    }
   ],
   "source": [
    "@code_native J(1.0)"
   ]
  },
  {
   "cell_type": "code",
   "execution_count": null,
   "metadata": {},
   "outputs": [],
   "source": []
  }
 ],
 "metadata": {
  "kernelspec": {
   "display_name": "Julia 1.2.0-rc1",
   "language": "julia",
   "name": "julia-1.2"
  },
  "language_info": {
   "file_extension": ".jl",
   "mimetype": "application/julia",
   "name": "julia",
   "version": "1.2.0"
  }
 },
 "nbformat": 4,
 "nbformat_minor": 2
}
