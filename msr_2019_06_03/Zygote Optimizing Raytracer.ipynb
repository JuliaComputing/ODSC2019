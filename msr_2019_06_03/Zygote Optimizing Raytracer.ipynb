{
 "cells": [
  {
   "cell_type": "markdown",
   "metadata": {},
   "source": [
    "# Zygote Continued: A Differentiable Raytracer\n",
    "\n",
    "We demonstrate in this notebook differentiating through a raytracer"
   ]
  },
  {
   "cell_type": "code",
   "execution_count": 1,
   "metadata": {},
   "outputs": [
    {
     "name": "stderr",
     "output_type": "stream",
     "text": [
      "┌ Info: activating environment at `~/src/msr_talk/Project.toml`.\n",
      "└ @ Pkg.API /Users/sabae/tmp/julia-build/julia-release-1.2/usr/share/julia/stdlib/v1.2/Pkg/src/API.jl:564\n"
     ]
    },
    {
     "name": "stdout",
     "output_type": "stream",
     "text": [
      "\u001b[32m\u001b[1m  Updating\u001b[22m\u001b[39m registry at `~/.julia/registries/General`\n",
      "\u001b[32m\u001b[1m  Updating\u001b[22m\u001b[39m git-repo `https://github.com/JuliaRegistries/General.git`\n",
      "\u001b[?25l\u001b[2K\u001b[?25h"
     ]
    },
    {
     "name": "stderr",
     "output_type": "stream",
     "text": [
      "┌ Info: Recompiling stale cache file /Users/sabae/.julia/compiled/v1.2/RayTracer/sUryZ.ji for RayTracer [60dacb86-48ff-11e9-0f01-03ab8794bbc9]\n",
      "└ @ Base loading.jl:1240\n"
     ]
    },
    {
     "data": {
      "text/html": [
       "<script>\n",
       "// Immediately-invoked-function-expression to avoid global variables.\n",
       "(function() {\n",
       "    var warning_div = document.getElementById(\"webio-warning-3042182128585051682\");\n",
       "    var hide = function () {\n",
       "        var script = document.getElementById(\"webio-setup-9960075925948293446\");\n",
       "        var parent = script && script.parentElement;\n",
       "        var grandparent = parent && parent.parentElement;\n",
       "        if (grandparent) {\n",
       "            grandparent.style.display = \"none\";\n",
       "        }\n",
       "        warning_div.style.display = \"none\";\n",
       "    };\n",
       "    if (typeof Jupyter !== \"undefined\") {\n",
       "        console.log(\"WebIO detected Jupyter notebook environment.\");\n",
       "        // Jupyter notebook.\n",
       "        var extensions = (\n",
       "            Jupyter\n",
       "            && Jupyter.notebook.config.data\n",
       "            && Jupyter.notebook.config.data.load_extensions\n",
       "        );\n",
       "        if (extensions && extensions[\"webio/main\"]) {\n",
       "            // Extension already loaded.\n",
       "            console.log(\"Jupyter WebIO nbextension detected; not loading ad-hoc.\");\n",
       "            hide();\n",
       "            return;\n",
       "        }\n",
       "        console.warn(\"Loading WebIO Jupyter extension on an ad-hoc basis. Consider enabling the WebIO nbextension for a stabler experience (this should happen automatically when building WebIO).\");\n",
       "        require([\"/assetserver/de9d19b6ee19a3761cb5e9ef3b8ac4aba26fecb6-dist/main.js\"], function (webIOModule) {\n",
       "            webIOModule.load_ipython_extension();\n",
       "        });\n",
       "        warning_div.innerHTML = \"<strong>Loading WebIO Jupyter extension on an ad-hoc basis. Consider enabling the WebIO nbextension for a stabler experience (this should happen automatically when building WebIO).</strong>\";\n",
       "    } else if (window.location.pathname.includes(\"/lab\")) {\n",
       "        // Guessing JupyterLa\n",
       "        console.log(\"Jupyter Lab detected; make sure the @webio/jupyter-lab-provider labextension is installed.\");\n",
       "        hide();\n",
       "        return;\n",
       "    }\n",
       "})();\n",
       "\n",
       "</script>\n",
       "<div\n",
       "    id=\"webio-warning-3042182128585051682\"\n",
       "    class=\"output_text output_stderr\"\n",
       "    style=\"padding: 1em; font-weight: bold;\"\n",
       ">\n",
       "    Unable to load WebIO. Please make sure WebIO works for your Jupyter client.\n",
       "    <!-- TODO: link to installation docs. -->\n",
       "</div>\n"
      ],
      "text/plain": [
       "HTML{String}(\"<script>\\n// Immediately-invoked-function-expression to avoid global variables.\\n(function() {\\n    var warning_div = document.getElementById(\\\"webio-warning-3042182128585051682\\\");\\n    var hide = function () {\\n        var script = document.getElementById(\\\"webio-setup-9960075925948293446\\\");\\n        var parent = script && script.parentElement;\\n        var grandparent = parent && parent.parentElement;\\n        if (grandparent) {\\n            grandparent.style.display = \\\"none\\\";\\n        }\\n        warning_div.style.display = \\\"none\\\";\\n    };\\n    if (typeof Jupyter !== \\\"undefined\\\") {\\n        console.log(\\\"WebIO detected Jupyter notebook environment.\\\");\\n        // Jupyter notebook.\\n        var extensions = (\\n            Jupyter\\n            && Jupyter.notebook.config.data\\n            && Jupyter.notebook.config.data.load_extensions\\n        );\\n        if (extensions && extensions[\\\"webio/main\\\"]) {\\n            // Extension already loaded.\\n            console.log(\\\"Jupyter WebIO nbextension detected; not loading ad-hoc.\\\");\\n            hide();\\n            return;\\n        }\\n        console.warn(\\\"Loading WebIO Jupyter extension on an ad-hoc basis. Consider enabling the WebIO nbextension for a stabler experience (this should happen automatically when building WebIO).\\\");\\n        require([\\\"/assetserver/de9d19b6ee19a3761cb5e9ef3b8ac4aba26fecb6-dist/main.js\\\"], function (webIOModule) {\\n            webIOModule.load_ipython_extension();\\n        });\\n        warning_div.innerHTML = \\\"<strong>Loading WebIO Jupyter extension on an ad-hoc basis. Consider enabling the WebIO nbextension for a stabler experience (this should happen automatically when building WebIO).</strong>\\\";\\n    } else if (window.location.pathname.includes(\\\"/lab\\\")) {\\n        // Guessing JupyterLa\\n        console.log(\\\"Jupyter Lab detected; make sure the @webio/jupyter-lab-provider labextension is installed.\\\");\\n        hide();\\n        return;\\n    }\\n})();\\n\\n</script>\\n<div\\n    id=\\\"webio-warning-3042182128585051682\\\"\\n    class=\\\"output_text output_stderr\\\"\\n    style=\\\"padding: 1em; font-weight: bold;\\\"\\n>\\n    Unable to load WebIO. Please make sure WebIO works for your Jupyter client.\\n    <!-- TODO: link to installation docs. -->\\n</div>\\n\")"
      ]
     },
     "metadata": {},
     "output_type": "display_data"
    }
   ],
   "source": [
    "# Initialize environment in current directory, to load\n",
    "import Pkg; Pkg.activate(@__DIR__); Pkg.instantiate()\n",
    "using RayTracer, Zygote, Flux, Images, Statistics, Interact"
   ]
  },
  {
   "cell_type": "code",
   "execution_count": 2,
   "metadata": {},
   "outputs": [
    {
     "data": {
      "text/plain": [
       "showimg (generic function with 1 method)"
      ]
     },
     "execution_count": 2,
     "metadata": {},
     "output_type": "execute_result"
    }
   ],
   "source": [
    "width = 200\n",
    "height = 200\n",
    "\n",
    "# Static camera configuration \n",
    "cam = Camera(\n",
    "    # Center\n",
    "    Vec3(0.0f0, 0.0f0, -5.0f0),\n",
    "    # Target\n",
    "    Vec3(0.0f0, 0.0f0,  0.0f0),\n",
    "    # Up\n",
    "    Vec3(0.0f0, 1.0f0, 0.0f0),\n",
    "    # Field of View\n",
    "    45.0f0,\n",
    "    # Focus\n",
    "    1.0f0,\n",
    "    # Resolution\n",
    "    width, height,\n",
    ")\n",
    "origin, direction = get_primary_rays(cam)\n",
    "\n",
    "function render(scene, light)\n",
    "    packed_image = raytrace(origin, direction, scene, light, origin, 0)\n",
    "    array_image = reshape(hcat(packed_image.x, packed_image.y, packed_image.z), (width, height, 3, 1))\n",
    "    return array_image\n",
    "end\n",
    "\n",
    "function showimg(img)\n",
    "    return colorview(RGB, permutedims(img[:,:,:,1], (3,2,1)))\n",
    "end"
   ]
  },
  {
   "cell_type": "code",
   "execution_count": 3,
   "metadata": {
    "scrolled": true
   },
   "outputs": [
    {
     "name": "stderr",
     "output_type": "stream",
     "text": [
      "┌ Info: Recompiling stale cache file /Users/sabae/.julia/compiled/v1.2/QuartzImageIO/n8vDP.ji for QuartzImageIO [dca85d43-d64c-5e67-8c65-017450d5d020]\n",
      "└ @ Base loading.jl:1240\n"
     ]
    },
    {
     "data": {
      "application/vnd.webio.node+json": {
       "children": [
        {
         "children": [
          {
           "children": [
            {
             "children": [
              {
               "children": [
                {
                 "children": [
                  "light_x"
                 ],
                 "instanceArgs": {
                  "namespace": "html",
                  "tag": "label"
                 },
                 "nodeType": "DOM",
                 "props": {
                  "className": "interact ",
                  "style": {
                   "padding": "5px 10px 0px 10px"
                  }
                 },
                 "type": "node"
                }
               ],
               "instanceArgs": {
                "namespace": "html",
                "tag": "div"
               },
               "nodeType": "DOM",
               "props": {
                "className": "interact-flex-row-left"
               },
               "type": "node"
              },
              {
               "children": [
                {
                 "children": [],
                 "instanceArgs": {
                  "namespace": "html",
                  "tag": "input"
                 },
                 "nodeType": "DOM",
                 "props": {
                  "attributes": {
                   "data-bind": "numericValue: index, valueUpdate: 'input', event: {change: function (){this.changes(this.changes()+1)}}",
                   "orient": "horizontal",
                   "type": "range"
                  },
                  "className": "slider slider is-fullwidth",
                  "max": 201,
                  "min": 1,
                  "step": 1,
                  "style": {}
                 },
                 "type": "node"
                }
               ],
               "instanceArgs": {
                "namespace": "html",
                "tag": "div"
               },
               "nodeType": "DOM",
               "props": {
                "className": "interact-flex-row-center"
               },
               "type": "node"
              },
              {
               "children": [
                {
                 "children": [],
                 "instanceArgs": {
                  "namespace": "html",
                  "tag": "p"
                 },
                 "nodeType": "DOM",
                 "props": {
                  "attributes": {
                   "data-bind": "text: formatted_val"
                  }
                 },
                 "type": "node"
                }
               ],
               "instanceArgs": {
                "namespace": "html",
                "tag": "div"
               },
               "nodeType": "DOM",
               "props": {
                "className": "interact-flex-row-right"
               },
               "type": "node"
              }
             ],
             "instanceArgs": {
              "namespace": "html",
              "tag": "div"
             },
             "nodeType": "DOM",
             "props": {
              "className": "interact-flex-row interact-widget"
             },
             "type": "node"
            }
           ],
           "instanceArgs": {
            "handlers": {
             "changes": [
              "(function (val){return (val!=this.model[\"changes\"]()) ? (this.valueFromJulia[\"changes\"]=true, this.model[\"changes\"](val)) : undefined})"
             ],
             "index": [
              "(function (val){return (val!=this.model[\"index\"]()) ? (this.valueFromJulia[\"index\"]=true, this.model[\"index\"](val)) : undefined})"
             ]
            },
            "id": "knockout-component-c38aaa86-25c9-4f6a-bff6-d43e1ca05fc1",
            "imports": {
             "data": [
              {
               "name": "knockout",
               "type": "js",
               "url": "/assetserver/ea8c2bba3d1cdc794fc7cdb917e670fe18a6de58-knockout.js"
              },
              {
               "name": "knockout_punches",
               "type": "js",
               "url": "/assetserver/d4a545de2fcaa3806ff0e485dace0a8ff2ce27b4-knockout_punches.js"
              },
              {
               "name": null,
               "type": "js",
               "url": "/assetserver/7ea54c706c41612ff181df82c2235dbf5843d523-all.js"
              },
              {
               "name": null,
               "type": "css",
               "url": "/assetserver/331590f5c3adaeeb85d9b0362fd48f6fdb920921-style.css"
              },
              {
               "name": null,
               "type": "css",
               "url": "/assetserver/c2e3dfa1539c90fd929643c4ea59fe5874363038-bulma_confined.min.css"
              }
             ],
             "type": "async_block"
            },
            "mount_callbacks": [
             "function () {\n    var handler = (function (ko, koPunches) {\n    ko.punches.enableAll();\n    ko.bindingHandlers.numericValue = {\n        init : function(element, valueAccessor, allBindings, data, context) {\n            var stringified = ko.observable(ko.unwrap(valueAccessor()));\n            stringified.subscribe(function(value) {\n                var val = parseFloat(value);\n                if (!isNaN(val)) {\n                    valueAccessor()(val);\n                }\n            })\n            valueAccessor().subscribe(function(value) {\n                var str = JSON.stringify(value);\n                if ((str == \"0\") && ([\"-0\", \"-0.\"].indexOf(stringified()) >= 0))\n                     return;\n                 if ([\"null\", \"\"].indexOf(str) >= 0)\n                     return;\n                stringified(str);\n            })\n            ko.applyBindingsToNode(element, { value: stringified, valueUpdate: allBindings.get('valueUpdate')}, context);\n        }\n    };\n    var json_data = {\"formatted_vals\":[\"-10.0\",\"-9.9\",\"-9.8\",\"-9.7\",\"-9.6\",\"-9.5\",\"-9.4\",\"-9.3\",\"-9.2\",\"-9.1\",\"-9.0\",\"-8.9\",\"-8.8\",\"-8.7\",\"-8.6\",\"-8.5\",\"-8.4\",\"-8.3\",\"-8.2\",\"-8.1\",\"-8.0\",\"-7.9\",\"-7.8\",\"-7.7\",\"-7.6\",\"-7.5\",\"-7.4\",\"-7.3\",\"-7.2\",\"-7.1\",\"-7.0\",\"-6.9\",\"-6.8\",\"-6.7\",\"-6.6\",\"-6.5\",\"-6.4\",\"-6.3\",\"-6.2\",\"-6.1\",\"-6.0\",\"-5.9\",\"-5.8\",\"-5.7\",\"-5.6\",\"-5.5\",\"-5.4\",\"-5.3\",\"-5.2\",\"-5.1\",\"-5.0\",\"-4.9\",\"-4.8\",\"-4.7\",\"-4.6\",\"-4.5\",\"-4.4\",\"-4.3\",\"-4.2\",\"-4.1\",\"-4.0\",\"-3.9\",\"-3.8\",\"-3.7\",\"-3.6\",\"-3.5\",\"-3.4\",\"-3.3\",\"-3.2\",\"-3.1\",\"-3.0\",\"-2.9\",\"-2.8\",\"-2.7\",\"-2.6\",\"-2.5\",\"-2.4\",\"-2.3\",\"-2.2\",\"-2.1\",\"-2.0\",\"-1.9\",\"-1.8\",\"-1.7\",\"-1.6\",\"-1.5\",\"-1.4\",\"-1.3\",\"-1.2\",\"-1.1\",\"-1.0\",\"-0.9\",\"-0.8\",\"-0.7\",\"-0.6\",\"-0.5\",\"-0.4\",\"-0.3\",\"-0.2\",\"-0.1\",\"0.0\",\"0.1\",\"0.2\",\"0.3\",\"0.4\",\"0.5\",\"0.6\",\"0.7\",\"0.8\",\"0.9\",\"1.0\",\"1.1\",\"1.2\",\"1.3\",\"1.4\",\"1.5\",\"1.6\",\"1.7\",\"1.8\",\"1.9\",\"2.0\",\"2.1\",\"2.2\",\"2.3\",\"2.4\",\"2.5\",\"2.6\",\"2.7\",\"2.8\",\"2.9\",\"3.0\",\"3.1\",\"3.2\",\"3.3\",\"3.4\",\"3.5\",\"3.6\",\"3.7\",\"3.8\",\"3.9\",\"4.0\",\"4.1\",\"4.2\",\"4.3\",\"4.4\",\"4.5\",\"4.6\",\"4.7\",\"4.8\",\"4.9\",\"5.0\",\"5.1\",\"5.2\",\"5.3\",\"5.4\",\"5.5\",\"5.6\",\"5.7\",\"5.8\",\"5.9\",\"6.0\",\"6.1\",\"6.2\",\"6.3\",\"6.4\",\"6.5\",\"6.6\",\"6.7\",\"6.8\",\"6.9\",\"7.0\",\"7.1\",\"7.2\",\"7.3\",\"7.4\",\"7.5\",\"7.6\",\"7.7\",\"7.8\",\"7.9\",\"8.0\",\"8.1\",\"8.2\",\"8.3\",\"8.4\",\"8.5\",\"8.6\",\"8.7\",\"8.8\",\"8.9\",\"9.0\",\"9.1\",\"9.2\",\"9.3\",\"9.4\",\"9.5\",\"9.6\",\"9.7\",\"9.8\",\"9.9\",\"10.0\"],\"changes\":WebIO.getval({\"name\":\"changes\",\"scope\":\"knockout-component-c38aaa86-25c9-4f6a-bff6-d43e1ca05fc1\",\"id\":\"ob_03\",\"type\":\"observable\"}),\"index\":WebIO.getval({\"name\":\"index\",\"scope\":\"knockout-component-c38aaa86-25c9-4f6a-bff6-d43e1ca05fc1\",\"id\":\"ob_02\",\"type\":\"observable\"})};\n    var self = this;\n    function AppViewModel() {\n        for (var key in json_data) {\n            var el = json_data[key];\n            this[key] = Array.isArray(el) ? ko.observableArray(el) : ko.observable(el);\n        }\n        \n        [this[\"formatted_val\"]=ko.computed(    function(){\n        return this.formatted_vals()[parseInt(this.index())-1];\n    }\n,this)]\n        [this[\"changes\"].subscribe((function (val){!(this.valueFromJulia[\"changes\"]) ? (WebIO.setval({\"name\":\"changes\",\"scope\":\"knockout-component-c38aaa86-25c9-4f6a-bff6-d43e1ca05fc1\",\"id\":\"ob_03\",\"type\":\"observable\"},val)) : undefined; return this.valueFromJulia[\"changes\"]=false}),self),this[\"index\"].subscribe((function (val){!(this.valueFromJulia[\"index\"]) ? (WebIO.setval({\"name\":\"index\",\"scope\":\"knockout-component-c38aaa86-25c9-4f6a-bff6-d43e1ca05fc1\",\"id\":\"ob_02\",\"type\":\"observable\"},val)) : undefined; return this.valueFromJulia[\"index\"]=false}),self)]\n        \n    }\n    self.model = new AppViewModel();\n    self.valueFromJulia = {};\n    for (var key in json_data) {\n        self.valueFromJulia[key] = false;\n    }\n    ko.applyBindings(self.model, self.dom);\n}\n);\n    (WebIO.importBlock({\"data\":[{\"name\":\"knockout\",\"type\":\"js\",\"url\":\"/assetserver/ea8c2bba3d1cdc794fc7cdb917e670fe18a6de58-knockout.js\"},{\"name\":\"knockout_punches\",\"type\":\"js\",\"url\":\"/assetserver/d4a545de2fcaa3806ff0e485dace0a8ff2ce27b4-knockout_punches.js\"}],\"type\":\"async_block\"})).then((imports) => handler.apply(this, imports));\n}\n"
            ],
            "observables": {
             "changes": {
              "id": "ob_03",
              "sync": false,
              "value": 0
             },
             "index": {
              "id": "ob_02",
              "sync": true,
              "value": 101
             }
            },
            "systemjs_options": null
           },
           "nodeType": "Scope",
           "props": {},
           "type": "node"
          }
         ],
         "instanceArgs": {
          "namespace": "html",
          "tag": "div"
         },
         "nodeType": "DOM",
         "props": {
          "className": "field interact-widget"
         },
         "type": "node"
        },
        {
         "children": [
          {
           "children": [
            {
             "children": [
              {
               "children": [
                {
                 "children": [
                  "light_y"
                 ],
                 "instanceArgs": {
                  "namespace": "html",
                  "tag": "label"
                 },
                 "nodeType": "DOM",
                 "props": {
                  "className": "interact ",
                  "style": {
                   "padding": "5px 10px 0px 10px"
                  }
                 },
                 "type": "node"
                }
               ],
               "instanceArgs": {
                "namespace": "html",
                "tag": "div"
               },
               "nodeType": "DOM",
               "props": {
                "className": "interact-flex-row-left"
               },
               "type": "node"
              },
              {
               "children": [
                {
                 "children": [],
                 "instanceArgs": {
                  "namespace": "html",
                  "tag": "input"
                 },
                 "nodeType": "DOM",
                 "props": {
                  "attributes": {
                   "data-bind": "numericValue: index, valueUpdate: 'input', event: {change: function (){this.changes(this.changes()+1)}}",
                   "orient": "horizontal",
                   "type": "range"
                  },
                  "className": "slider slider is-fullwidth",
                  "max": 201,
                  "min": 1,
                  "step": 1,
                  "style": {}
                 },
                 "type": "node"
                }
               ],
               "instanceArgs": {
                "namespace": "html",
                "tag": "div"
               },
               "nodeType": "DOM",
               "props": {
                "className": "interact-flex-row-center"
               },
               "type": "node"
              },
              {
               "children": [
                {
                 "children": [],
                 "instanceArgs": {
                  "namespace": "html",
                  "tag": "p"
                 },
                 "nodeType": "DOM",
                 "props": {
                  "attributes": {
                   "data-bind": "text: formatted_val"
                  }
                 },
                 "type": "node"
                }
               ],
               "instanceArgs": {
                "namespace": "html",
                "tag": "div"
               },
               "nodeType": "DOM",
               "props": {
                "className": "interact-flex-row-right"
               },
               "type": "node"
              }
             ],
             "instanceArgs": {
              "namespace": "html",
              "tag": "div"
             },
             "nodeType": "DOM",
             "props": {
              "className": "interact-flex-row interact-widget"
             },
             "type": "node"
            }
           ],
           "instanceArgs": {
            "handlers": {
             "changes": [
              "(function (val){return (val!=this.model[\"changes\"]()) ? (this.valueFromJulia[\"changes\"]=true, this.model[\"changes\"](val)) : undefined})"
             ],
             "index": [
              "(function (val){return (val!=this.model[\"index\"]()) ? (this.valueFromJulia[\"index\"]=true, this.model[\"index\"](val)) : undefined})"
             ]
            },
            "id": "knockout-component-8f5c86ac-342e-429e-94db-e9cbfb6577f6",
            "imports": {
             "data": [
              {
               "name": "knockout",
               "type": "js",
               "url": "/assetserver/ea8c2bba3d1cdc794fc7cdb917e670fe18a6de58-knockout.js"
              },
              {
               "name": "knockout_punches",
               "type": "js",
               "url": "/assetserver/d4a545de2fcaa3806ff0e485dace0a8ff2ce27b4-knockout_punches.js"
              },
              {
               "name": null,
               "type": "js",
               "url": "/assetserver/7ea54c706c41612ff181df82c2235dbf5843d523-all.js"
              },
              {
               "name": null,
               "type": "css",
               "url": "/assetserver/331590f5c3adaeeb85d9b0362fd48f6fdb920921-style.css"
              },
              {
               "name": null,
               "type": "css",
               "url": "/assetserver/c2e3dfa1539c90fd929643c4ea59fe5874363038-bulma_confined.min.css"
              }
             ],
             "type": "async_block"
            },
            "mount_callbacks": [
             "function () {\n    var handler = (function (ko, koPunches) {\n    ko.punches.enableAll();\n    ko.bindingHandlers.numericValue = {\n        init : function(element, valueAccessor, allBindings, data, context) {\n            var stringified = ko.observable(ko.unwrap(valueAccessor()));\n            stringified.subscribe(function(value) {\n                var val = parseFloat(value);\n                if (!isNaN(val)) {\n                    valueAccessor()(val);\n                }\n            })\n            valueAccessor().subscribe(function(value) {\n                var str = JSON.stringify(value);\n                if ((str == \"0\") && ([\"-0\", \"-0.\"].indexOf(stringified()) >= 0))\n                     return;\n                 if ([\"null\", \"\"].indexOf(str) >= 0)\n                     return;\n                stringified(str);\n            })\n            ko.applyBindingsToNode(element, { value: stringified, valueUpdate: allBindings.get('valueUpdate')}, context);\n        }\n    };\n    var json_data = {\"formatted_vals\":[\"-10.0\",\"-9.9\",\"-9.8\",\"-9.7\",\"-9.6\",\"-9.5\",\"-9.4\",\"-9.3\",\"-9.2\",\"-9.1\",\"-9.0\",\"-8.9\",\"-8.8\",\"-8.7\",\"-8.6\",\"-8.5\",\"-8.4\",\"-8.3\",\"-8.2\",\"-8.1\",\"-8.0\",\"-7.9\",\"-7.8\",\"-7.7\",\"-7.6\",\"-7.5\",\"-7.4\",\"-7.3\",\"-7.2\",\"-7.1\",\"-7.0\",\"-6.9\",\"-6.8\",\"-6.7\",\"-6.6\",\"-6.5\",\"-6.4\",\"-6.3\",\"-6.2\",\"-6.1\",\"-6.0\",\"-5.9\",\"-5.8\",\"-5.7\",\"-5.6\",\"-5.5\",\"-5.4\",\"-5.3\",\"-5.2\",\"-5.1\",\"-5.0\",\"-4.9\",\"-4.8\",\"-4.7\",\"-4.6\",\"-4.5\",\"-4.4\",\"-4.3\",\"-4.2\",\"-4.1\",\"-4.0\",\"-3.9\",\"-3.8\",\"-3.7\",\"-3.6\",\"-3.5\",\"-3.4\",\"-3.3\",\"-3.2\",\"-3.1\",\"-3.0\",\"-2.9\",\"-2.8\",\"-2.7\",\"-2.6\",\"-2.5\",\"-2.4\",\"-2.3\",\"-2.2\",\"-2.1\",\"-2.0\",\"-1.9\",\"-1.8\",\"-1.7\",\"-1.6\",\"-1.5\",\"-1.4\",\"-1.3\",\"-1.2\",\"-1.1\",\"-1.0\",\"-0.9\",\"-0.8\",\"-0.7\",\"-0.6\",\"-0.5\",\"-0.4\",\"-0.3\",\"-0.2\",\"-0.1\",\"0.0\",\"0.1\",\"0.2\",\"0.3\",\"0.4\",\"0.5\",\"0.6\",\"0.7\",\"0.8\",\"0.9\",\"1.0\",\"1.1\",\"1.2\",\"1.3\",\"1.4\",\"1.5\",\"1.6\",\"1.7\",\"1.8\",\"1.9\",\"2.0\",\"2.1\",\"2.2\",\"2.3\",\"2.4\",\"2.5\",\"2.6\",\"2.7\",\"2.8\",\"2.9\",\"3.0\",\"3.1\",\"3.2\",\"3.3\",\"3.4\",\"3.5\",\"3.6\",\"3.7\",\"3.8\",\"3.9\",\"4.0\",\"4.1\",\"4.2\",\"4.3\",\"4.4\",\"4.5\",\"4.6\",\"4.7\",\"4.8\",\"4.9\",\"5.0\",\"5.1\",\"5.2\",\"5.3\",\"5.4\",\"5.5\",\"5.6\",\"5.7\",\"5.8\",\"5.9\",\"6.0\",\"6.1\",\"6.2\",\"6.3\",\"6.4\",\"6.5\",\"6.6\",\"6.7\",\"6.8\",\"6.9\",\"7.0\",\"7.1\",\"7.2\",\"7.3\",\"7.4\",\"7.5\",\"7.6\",\"7.7\",\"7.8\",\"7.9\",\"8.0\",\"8.1\",\"8.2\",\"8.3\",\"8.4\",\"8.5\",\"8.6\",\"8.7\",\"8.8\",\"8.9\",\"9.0\",\"9.1\",\"9.2\",\"9.3\",\"9.4\",\"9.5\",\"9.6\",\"9.7\",\"9.8\",\"9.9\",\"10.0\"],\"changes\":WebIO.getval({\"name\":\"changes\",\"scope\":\"knockout-component-8f5c86ac-342e-429e-94db-e9cbfb6577f6\",\"id\":\"ob_06\",\"type\":\"observable\"}),\"index\":WebIO.getval({\"name\":\"index\",\"scope\":\"knockout-component-8f5c86ac-342e-429e-94db-e9cbfb6577f6\",\"id\":\"ob_05\",\"type\":\"observable\"})};\n    var self = this;\n    function AppViewModel() {\n        for (var key in json_data) {\n            var el = json_data[key];\n            this[key] = Array.isArray(el) ? ko.observableArray(el) : ko.observable(el);\n        }\n        \n        [this[\"formatted_val\"]=ko.computed(    function(){\n        return this.formatted_vals()[parseInt(this.index())-1];\n    }\n,this)]\n        [this[\"changes\"].subscribe((function (val){!(this.valueFromJulia[\"changes\"]) ? (WebIO.setval({\"name\":\"changes\",\"scope\":\"knockout-component-8f5c86ac-342e-429e-94db-e9cbfb6577f6\",\"id\":\"ob_06\",\"type\":\"observable\"},val)) : undefined; return this.valueFromJulia[\"changes\"]=false}),self),this[\"index\"].subscribe((function (val){!(this.valueFromJulia[\"index\"]) ? (WebIO.setval({\"name\":\"index\",\"scope\":\"knockout-component-8f5c86ac-342e-429e-94db-e9cbfb6577f6\",\"id\":\"ob_05\",\"type\":\"observable\"},val)) : undefined; return this.valueFromJulia[\"index\"]=false}),self)]\n        \n    }\n    self.model = new AppViewModel();\n    self.valueFromJulia = {};\n    for (var key in json_data) {\n        self.valueFromJulia[key] = false;\n    }\n    ko.applyBindings(self.model, self.dom);\n}\n);\n    (WebIO.importBlock({\"data\":[{\"name\":\"knockout\",\"type\":\"js\",\"url\":\"/assetserver/ea8c2bba3d1cdc794fc7cdb917e670fe18a6de58-knockout.js\"},{\"name\":\"knockout_punches\",\"type\":\"js\",\"url\":\"/assetserver/d4a545de2fcaa3806ff0e485dace0a8ff2ce27b4-knockout_punches.js\"}],\"type\":\"async_block\"})).then((imports) => handler.apply(this, imports));\n}\n"
            ],
            "observables": {
             "changes": {
              "id": "ob_06",
              "sync": false,
              "value": 0
             },
             "index": {
              "id": "ob_05",
              "sync": true,
              "value": 101
             }
            },
            "systemjs_options": null
           },
           "nodeType": "Scope",
           "props": {},
           "type": "node"
          }
         ],
         "instanceArgs": {
          "namespace": "html",
          "tag": "div"
         },
         "nodeType": "DOM",
         "props": {
          "className": "field interact-widget"
         },
         "type": "node"
        },
        {
         "children": [
          {
           "children": [],
           "instanceArgs": {
            "id": "ob_12",
            "name": "obs-node"
           },
           "nodeType": "ObservableNode",
           "props": {},
           "type": "node"
          }
         ],
         "instanceArgs": {
          "handlers": {},
          "id": "scope-d15408a8-63ca-4baf-8f6c-d068db26c64b",
          "imports": {
           "data": [],
           "type": "async_block"
          },
          "mount_callbacks": [],
          "observables": {
           "obs-node": {
            "id": "ob_12",
            "sync": false,
            "value": {
             "children": [
              {
               "children": [],
               "instanceArgs": {
                "namespace": "html",
                "tag": "div"
               },
               "nodeType": "DOM",
               "props": {
                "setInnerHtml": "<img src='data:image/png;base64,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'></img>"
               },
               "type": "node"
              }
             ],
             "instanceArgs": {
              "namespace": "html",
              "tag": "div"
             },
             "nodeType": "DOM",
             "props": {
              "className": "interact-flex-row interact-widget"
             },
             "type": "node"
            }
           }
          },
          "systemjs_options": null
         },
         "nodeType": "Scope",
         "props": {},
         "type": "node"
        }
       ],
       "instanceArgs": {
        "namespace": "html",
        "tag": "div"
       },
       "nodeType": "DOM",
       "props": {},
       "type": "node"
      },
      "text/html": [
       "<div\n",
       "    class=\"webio-mountpoint\"\n",
       "    data-webio-mountpoint=\"13302005946432711503\"\n",
       ">\n",
       "    <script>\n",
       "    if (window.require && require.defined && require.defined(\"nbextensions/webio/main\")) {\n",
       "        console.log(\"Jupyter WebIO extension detected, not mounting.\");\n",
       "    } else if (window.WebIO) {\n",
       "        WebIO.mount(\n",
       "            document.querySelector('[data-webio-mountpoint=\"13302005946432711503\"]'),\n",
       "            {\"props\":{},\"nodeType\":\"DOM\",\"type\":\"node\",\"instanceArgs\":{\"namespace\":\"html\",\"tag\":\"div\"},\"children\":[{\"props\":{\"className\":\"field interact-widget\"},\"nodeType\":\"DOM\",\"type\":\"node\",\"instanceArgs\":{\"namespace\":\"html\",\"tag\":\"div\"},\"children\":[{\"props\":{},\"nodeType\":\"Scope\",\"type\":\"node\",\"instanceArgs\":{\"imports\":{\"data\":[{\"name\":\"knockout\",\"type\":\"js\",\"url\":\"\\/assetserver\\/ea8c2bba3d1cdc794fc7cdb917e670fe18a6de58-knockout.js\"},{\"name\":\"knockout_punches\",\"type\":\"js\",\"url\":\"\\/assetserver\\/d4a545de2fcaa3806ff0e485dace0a8ff2ce27b4-knockout_punches.js\"},{\"name\":null,\"type\":\"js\",\"url\":\"\\/assetserver\\/7ea54c706c41612ff181df82c2235dbf5843d523-all.js\"},{\"name\":null,\"type\":\"css\",\"url\":\"\\/assetserver\\/331590f5c3adaeeb85d9b0362fd48f6fdb920921-style.css\"},{\"name\":null,\"type\":\"css\",\"url\":\"\\/assetserver\\/c2e3dfa1539c90fd929643c4ea59fe5874363038-bulma_confined.min.css\"}],\"type\":\"async_block\"},\"id\":\"knockout-component-c38aaa86-25c9-4f6a-bff6-d43e1ca05fc1\",\"handlers\":{\"changes\":[\"(function (val){return (val!=this.model[\\\"changes\\\"]()) ? (this.valueFromJulia[\\\"changes\\\"]=true, this.model[\\\"changes\\\"](val)) : undefined})\"],\"index\":[\"(function (val){return (val!=this.model[\\\"index\\\"]()) ? (this.valueFromJulia[\\\"index\\\"]=true, this.model[\\\"index\\\"](val)) : undefined})\"]},\"systemjs_options\":null,\"mount_callbacks\":[\"function () {\\n    var handler = (function (ko, koPunches) {\\n    ko.punches.enableAll();\\n    ko.bindingHandlers.numericValue = {\\n        init : function(element, valueAccessor, allBindings, data, context) {\\n            var stringified = ko.observable(ko.unwrap(valueAccessor()));\\n            stringified.subscribe(function(value) {\\n                var val = parseFloat(value);\\n                if (!isNaN(val)) {\\n                    valueAccessor()(val);\\n                }\\n            })\\n            valueAccessor().subscribe(function(value) {\\n                var str = JSON.stringify(value);\\n                if ((str == \\\"0\\\") && ([\\\"-0\\\", \\\"-0.\\\"].indexOf(stringified()) >= 0))\\n                     return;\\n                 if ([\\\"null\\\", \\\"\\\"].indexOf(str) >= 0)\\n                     return;\\n                stringified(str);\\n            })\\n            ko.applyBindingsToNode(element, { value: stringified, valueUpdate: allBindings.get('valueUpdate')}, context);\\n        }\\n    };\\n    var json_data = {\\\"formatted_vals\\\":[\\\"-10.0\\\",\\\"-9.9\\\",\\\"-9.8\\\",\\\"-9.7\\\",\\\"-9.6\\\",\\\"-9.5\\\",\\\"-9.4\\\",\\\"-9.3\\\",\\\"-9.2\\\",\\\"-9.1\\\",\\\"-9.0\\\",\\\"-8.9\\\",\\\"-8.8\\\",\\\"-8.7\\\",\\\"-8.6\\\",\\\"-8.5\\\",\\\"-8.4\\\",\\\"-8.3\\\",\\\"-8.2\\\",\\\"-8.1\\\",\\\"-8.0\\\",\\\"-7.9\\\",\\\"-7.8\\\",\\\"-7.7\\\",\\\"-7.6\\\",\\\"-7.5\\\",\\\"-7.4\\\",\\\"-7.3\\\",\\\"-7.2\\\",\\\"-7.1\\\",\\\"-7.0\\\",\\\"-6.9\\\",\\\"-6.8\\\",\\\"-6.7\\\",\\\"-6.6\\\",\\\"-6.5\\\",\\\"-6.4\\\",\\\"-6.3\\\",\\\"-6.2\\\",\\\"-6.1\\\",\\\"-6.0\\\",\\\"-5.9\\\",\\\"-5.8\\\",\\\"-5.7\\\",\\\"-5.6\\\",\\\"-5.5\\\",\\\"-5.4\\\",\\\"-5.3\\\",\\\"-5.2\\\",\\\"-5.1\\\",\\\"-5.0\\\",\\\"-4.9\\\",\\\"-4.8\\\",\\\"-4.7\\\",\\\"-4.6\\\",\\\"-4.5\\\",\\\"-4.4\\\",\\\"-4.3\\\",\\\"-4.2\\\",\\\"-4.1\\\",\\\"-4.0\\\",\\\"-3.9\\\",\\\"-3.8\\\",\\\"-3.7\\\",\\\"-3.6\\\",\\\"-3.5\\\",\\\"-3.4\\\",\\\"-3.3\\\",\\\"-3.2\\\",\\\"-3.1\\\",\\\"-3.0\\\",\\\"-2.9\\\",\\\"-2.8\\\",\\\"-2.7\\\",\\\"-2.6\\\",\\\"-2.5\\\",\\\"-2.4\\\",\\\"-2.3\\\",\\\"-2.2\\\",\\\"-2.1\\\",\\\"-2.0\\\",\\\"-1.9\\\",\\\"-1.8\\\",\\\"-1.7\\\",\\\"-1.6\\\",\\\"-1.5\\\",\\\"-1.4\\\",\\\"-1.3\\\",\\\"-1.2\\\",\\\"-1.1\\\",\\\"-1.0\\\",\\\"-0.9\\\",\\\"-0.8\\\",\\\"-0.7\\\",\\\"-0.6\\\",\\\"-0.5\\\",\\\"-0.4\\\",\\\"-0.3\\\",\\\"-0.2\\\",\\\"-0.1\\\",\\\"0.0\\\",\\\"0.1\\\",\\\"0.2\\\",\\\"0.3\\\",\\\"0.4\\\",\\\"0.5\\\",\\\"0.6\\\",\\\"0.7\\\",\\\"0.8\\\",\\\"0.9\\\",\\\"1.0\\\",\\\"1.1\\\",\\\"1.2\\\",\\\"1.3\\\",\\\"1.4\\\",\\\"1.5\\\",\\\"1.6\\\",\\\"1.7\\\",\\\"1.8\\\",\\\"1.9\\\",\\\"2.0\\\",\\\"2.1\\\",\\\"2.2\\\",\\\"2.3\\\",\\\"2.4\\\",\\\"2.5\\\",\\\"2.6\\\",\\\"2.7\\\",\\\"2.8\\\",\\\"2.9\\\",\\\"3.0\\\",\\\"3.1\\\",\\\"3.2\\\",\\\"3.3\\\",\\\"3.4\\\",\\\"3.5\\\",\\\"3.6\\\",\\\"3.7\\\",\\\"3.8\\\",\\\"3.9\\\",\\\"4.0\\\",\\\"4.1\\\",\\\"4.2\\\",\\\"4.3\\\",\\\"4.4\\\",\\\"4.5\\\",\\\"4.6\\\",\\\"4.7\\\",\\\"4.8\\\",\\\"4.9\\\",\\\"5.0\\\",\\\"5.1\\\",\\\"5.2\\\",\\\"5.3\\\",\\\"5.4\\\",\\\"5.5\\\",\\\"5.6\\\",\\\"5.7\\\",\\\"5.8\\\",\\\"5.9\\\",\\\"6.0\\\",\\\"6.1\\\",\\\"6.2\\\",\\\"6.3\\\",\\\"6.4\\\",\\\"6.5\\\",\\\"6.6\\\",\\\"6.7\\\",\\\"6.8\\\",\\\"6.9\\\",\\\"7.0\\\",\\\"7.1\\\",\\\"7.2\\\",\\\"7.3\\\",\\\"7.4\\\",\\\"7.5\\\",\\\"7.6\\\",\\\"7.7\\\",\\\"7.8\\\",\\\"7.9\\\",\\\"8.0\\\",\\\"8.1\\\",\\\"8.2\\\",\\\"8.3\\\",\\\"8.4\\\",\\\"8.5\\\",\\\"8.6\\\",\\\"8.7\\\",\\\"8.8\\\",\\\"8.9\\\",\\\"9.0\\\",\\\"9.1\\\",\\\"9.2\\\",\\\"9.3\\\",\\\"9.4\\\",\\\"9.5\\\",\\\"9.6\\\",\\\"9.7\\\",\\\"9.8\\\",\\\"9.9\\\",\\\"10.0\\\"],\\\"changes\\\":WebIO.getval({\\\"name\\\":\\\"changes\\\",\\\"scope\\\":\\\"knockout-component-c38aaa86-25c9-4f6a-bff6-d43e1ca05fc1\\\",\\\"id\\\":\\\"ob_03\\\",\\\"type\\\":\\\"observable\\\"}),\\\"index\\\":WebIO.getval({\\\"name\\\":\\\"index\\\",\\\"scope\\\":\\\"knockout-component-c38aaa86-25c9-4f6a-bff6-d43e1ca05fc1\\\",\\\"id\\\":\\\"ob_02\\\",\\\"type\\\":\\\"observable\\\"})};\\n    var self = this;\\n    function AppViewModel() {\\n        for (var key in json_data) {\\n            var el = json_data[key];\\n            this[key] = Array.isArray(el) ? ko.observableArray(el) : ko.observable(el);\\n        }\\n        \\n        [this[\\\"formatted_val\\\"]=ko.computed(    function(){\\n        return this.formatted_vals()[parseInt(this.index())-1];\\n    }\\n,this)]\\n        [this[\\\"changes\\\"].subscribe((function (val){!(this.valueFromJulia[\\\"changes\\\"]) ? (WebIO.setval({\\\"name\\\":\\\"changes\\\",\\\"scope\\\":\\\"knockout-component-c38aaa86-25c9-4f6a-bff6-d43e1ca05fc1\\\",\\\"id\\\":\\\"ob_03\\\",\\\"type\\\":\\\"observable\\\"},val)) : undefined; return this.valueFromJulia[\\\"changes\\\"]=false}),self),this[\\\"index\\\"].subscribe((function (val){!(this.valueFromJulia[\\\"index\\\"]) ? (WebIO.setval({\\\"name\\\":\\\"index\\\",\\\"scope\\\":\\\"knockout-component-c38aaa86-25c9-4f6a-bff6-d43e1ca05fc1\\\",\\\"id\\\":\\\"ob_02\\\",\\\"type\\\":\\\"observable\\\"},val)) : undefined; return this.valueFromJulia[\\\"index\\\"]=false}),self)]\\n        \\n    }\\n    self.model = new AppViewModel();\\n    self.valueFromJulia = {};\\n    for (var key in json_data) {\\n        self.valueFromJulia[key] = false;\\n    }\\n    ko.applyBindings(self.model, self.dom);\\n}\\n);\\n    (WebIO.importBlock({\\\"data\\\":[{\\\"name\\\":\\\"knockout\\\",\\\"type\\\":\\\"js\\\",\\\"url\\\":\\\"\\/assetserver\\/ea8c2bba3d1cdc794fc7cdb917e670fe18a6de58-knockout.js\\\"},{\\\"name\\\":\\\"knockout_punches\\\",\\\"type\\\":\\\"js\\\",\\\"url\\\":\\\"\\/assetserver\\/d4a545de2fcaa3806ff0e485dace0a8ff2ce27b4-knockout_punches.js\\\"}],\\\"type\\\":\\\"async_block\\\"})).then((imports) => handler.apply(this, imports));\\n}\\n\"],\"observables\":{\"changes\":{\"sync\":false,\"id\":\"ob_03\",\"value\":0},\"index\":{\"sync\":true,\"id\":\"ob_02\",\"value\":101}}},\"children\":[{\"props\":{\"className\":\"interact-flex-row interact-widget\"},\"nodeType\":\"DOM\",\"type\":\"node\",\"instanceArgs\":{\"namespace\":\"html\",\"tag\":\"div\"},\"children\":[{\"props\":{\"className\":\"interact-flex-row-left\"},\"nodeType\":\"DOM\",\"type\":\"node\",\"instanceArgs\":{\"namespace\":\"html\",\"tag\":\"div\"},\"children\":[{\"props\":{\"className\":\"interact \",\"style\":{\"padding\":\"5px 10px 0px 10px\"}},\"nodeType\":\"DOM\",\"type\":\"node\",\"instanceArgs\":{\"namespace\":\"html\",\"tag\":\"label\"},\"children\":[\"light_x\"]}]},{\"props\":{\"className\":\"interact-flex-row-center\"},\"nodeType\":\"DOM\",\"type\":\"node\",\"instanceArgs\":{\"namespace\":\"html\",\"tag\":\"div\"},\"children\":[{\"props\":{\"max\":201,\"min\":1,\"attributes\":{\"type\":\"range\",\"data-bind\":\"numericValue: index, valueUpdate: 'input', event: {change: function (){this.changes(this.changes()+1)}}\",\"orient\":\"horizontal\"},\"step\":1,\"className\":\"slider slider is-fullwidth\",\"style\":{}},\"nodeType\":\"DOM\",\"type\":\"node\",\"instanceArgs\":{\"namespace\":\"html\",\"tag\":\"input\"},\"children\":[]}]},{\"props\":{\"className\":\"interact-flex-row-right\"},\"nodeType\":\"DOM\",\"type\":\"node\",\"instanceArgs\":{\"namespace\":\"html\",\"tag\":\"div\"},\"children\":[{\"props\":{\"attributes\":{\"data-bind\":\"text: formatted_val\"}},\"nodeType\":\"DOM\",\"type\":\"node\",\"instanceArgs\":{\"namespace\":\"html\",\"tag\":\"p\"},\"children\":[]}]}]}]}]},{\"props\":{\"className\":\"field interact-widget\"},\"nodeType\":\"DOM\",\"type\":\"node\",\"instanceArgs\":{\"namespace\":\"html\",\"tag\":\"div\"},\"children\":[{\"props\":{},\"nodeType\":\"Scope\",\"type\":\"node\",\"instanceArgs\":{\"imports\":{\"data\":[{\"name\":\"knockout\",\"type\":\"js\",\"url\":\"\\/assetserver\\/ea8c2bba3d1cdc794fc7cdb917e670fe18a6de58-knockout.js\"},{\"name\":\"knockout_punches\",\"type\":\"js\",\"url\":\"\\/assetserver\\/d4a545de2fcaa3806ff0e485dace0a8ff2ce27b4-knockout_punches.js\"},{\"name\":null,\"type\":\"js\",\"url\":\"\\/assetserver\\/7ea54c706c41612ff181df82c2235dbf5843d523-all.js\"},{\"name\":null,\"type\":\"css\",\"url\":\"\\/assetserver\\/331590f5c3adaeeb85d9b0362fd48f6fdb920921-style.css\"},{\"name\":null,\"type\":\"css\",\"url\":\"\\/assetserver\\/c2e3dfa1539c90fd929643c4ea59fe5874363038-bulma_confined.min.css\"}],\"type\":\"async_block\"},\"id\":\"knockout-component-8f5c86ac-342e-429e-94db-e9cbfb6577f6\",\"handlers\":{\"changes\":[\"(function (val){return (val!=this.model[\\\"changes\\\"]()) ? (this.valueFromJulia[\\\"changes\\\"]=true, this.model[\\\"changes\\\"](val)) : undefined})\"],\"index\":[\"(function (val){return (val!=this.model[\\\"index\\\"]()) ? (this.valueFromJulia[\\\"index\\\"]=true, this.model[\\\"index\\\"](val)) : undefined})\"]},\"systemjs_options\":null,\"mount_callbacks\":[\"function () {\\n    var handler = (function (ko, koPunches) {\\n    ko.punches.enableAll();\\n    ko.bindingHandlers.numericValue = {\\n        init : function(element, valueAccessor, allBindings, data, context) {\\n            var stringified = ko.observable(ko.unwrap(valueAccessor()));\\n            stringified.subscribe(function(value) {\\n                var val = parseFloat(value);\\n                if (!isNaN(val)) {\\n                    valueAccessor()(val);\\n                }\\n            })\\n            valueAccessor().subscribe(function(value) {\\n                var str = JSON.stringify(value);\\n                if ((str == \\\"0\\\") && ([\\\"-0\\\", \\\"-0.\\\"].indexOf(stringified()) >= 0))\\n                     return;\\n                 if ([\\\"null\\\", \\\"\\\"].indexOf(str) >= 0)\\n                     return;\\n                stringified(str);\\n            })\\n            ko.applyBindingsToNode(element, { value: stringified, valueUpdate: allBindings.get('valueUpdate')}, context);\\n        }\\n    };\\n    var json_data = {\\\"formatted_vals\\\":[\\\"-10.0\\\",\\\"-9.9\\\",\\\"-9.8\\\",\\\"-9.7\\\",\\\"-9.6\\\",\\\"-9.5\\\",\\\"-9.4\\\",\\\"-9.3\\\",\\\"-9.2\\\",\\\"-9.1\\\",\\\"-9.0\\\",\\\"-8.9\\\",\\\"-8.8\\\",\\\"-8.7\\\",\\\"-8.6\\\",\\\"-8.5\\\",\\\"-8.4\\\",\\\"-8.3\\\",\\\"-8.2\\\",\\\"-8.1\\\",\\\"-8.0\\\",\\\"-7.9\\\",\\\"-7.8\\\",\\\"-7.7\\\",\\\"-7.6\\\",\\\"-7.5\\\",\\\"-7.4\\\",\\\"-7.3\\\",\\\"-7.2\\\",\\\"-7.1\\\",\\\"-7.0\\\",\\\"-6.9\\\",\\\"-6.8\\\",\\\"-6.7\\\",\\\"-6.6\\\",\\\"-6.5\\\",\\\"-6.4\\\",\\\"-6.3\\\",\\\"-6.2\\\",\\\"-6.1\\\",\\\"-6.0\\\",\\\"-5.9\\\",\\\"-5.8\\\",\\\"-5.7\\\",\\\"-5.6\\\",\\\"-5.5\\\",\\\"-5.4\\\",\\\"-5.3\\\",\\\"-5.2\\\",\\\"-5.1\\\",\\\"-5.0\\\",\\\"-4.9\\\",\\\"-4.8\\\",\\\"-4.7\\\",\\\"-4.6\\\",\\\"-4.5\\\",\\\"-4.4\\\",\\\"-4.3\\\",\\\"-4.2\\\",\\\"-4.1\\\",\\\"-4.0\\\",\\\"-3.9\\\",\\\"-3.8\\\",\\\"-3.7\\\",\\\"-3.6\\\",\\\"-3.5\\\",\\\"-3.4\\\",\\\"-3.3\\\",\\\"-3.2\\\",\\\"-3.1\\\",\\\"-3.0\\\",\\\"-2.9\\\",\\\"-2.8\\\",\\\"-2.7\\\",\\\"-2.6\\\",\\\"-2.5\\\",\\\"-2.4\\\",\\\"-2.3\\\",\\\"-2.2\\\",\\\"-2.1\\\",\\\"-2.0\\\",\\\"-1.9\\\",\\\"-1.8\\\",\\\"-1.7\\\",\\\"-1.6\\\",\\\"-1.5\\\",\\\"-1.4\\\",\\\"-1.3\\\",\\\"-1.2\\\",\\\"-1.1\\\",\\\"-1.0\\\",\\\"-0.9\\\",\\\"-0.8\\\",\\\"-0.7\\\",\\\"-0.6\\\",\\\"-0.5\\\",\\\"-0.4\\\",\\\"-0.3\\\",\\\"-0.2\\\",\\\"-0.1\\\",\\\"0.0\\\",\\\"0.1\\\",\\\"0.2\\\",\\\"0.3\\\",\\\"0.4\\\",\\\"0.5\\\",\\\"0.6\\\",\\\"0.7\\\",\\\"0.8\\\",\\\"0.9\\\",\\\"1.0\\\",\\\"1.1\\\",\\\"1.2\\\",\\\"1.3\\\",\\\"1.4\\\",\\\"1.5\\\",\\\"1.6\\\",\\\"1.7\\\",\\\"1.8\\\",\\\"1.9\\\",\\\"2.0\\\",\\\"2.1\\\",\\\"2.2\\\",\\\"2.3\\\",\\\"2.4\\\",\\\"2.5\\\",\\\"2.6\\\",\\\"2.7\\\",\\\"2.8\\\",\\\"2.9\\\",\\\"3.0\\\",\\\"3.1\\\",\\\"3.2\\\",\\\"3.3\\\",\\\"3.4\\\",\\\"3.5\\\",\\\"3.6\\\",\\\"3.7\\\",\\\"3.8\\\",\\\"3.9\\\",\\\"4.0\\\",\\\"4.1\\\",\\\"4.2\\\",\\\"4.3\\\",\\\"4.4\\\",\\\"4.5\\\",\\\"4.6\\\",\\\"4.7\\\",\\\"4.8\\\",\\\"4.9\\\",\\\"5.0\\\",\\\"5.1\\\",\\\"5.2\\\",\\\"5.3\\\",\\\"5.4\\\",\\\"5.5\\\",\\\"5.6\\\",\\\"5.7\\\",\\\"5.8\\\",\\\"5.9\\\",\\\"6.0\\\",\\\"6.1\\\",\\\"6.2\\\",\\\"6.3\\\",\\\"6.4\\\",\\\"6.5\\\",\\\"6.6\\\",\\\"6.7\\\",\\\"6.8\\\",\\\"6.9\\\",\\\"7.0\\\",\\\"7.1\\\",\\\"7.2\\\",\\\"7.3\\\",\\\"7.4\\\",\\\"7.5\\\",\\\"7.6\\\",\\\"7.7\\\",\\\"7.8\\\",\\\"7.9\\\",\\\"8.0\\\",\\\"8.1\\\",\\\"8.2\\\",\\\"8.3\\\",\\\"8.4\\\",\\\"8.5\\\",\\\"8.6\\\",\\\"8.7\\\",\\\"8.8\\\",\\\"8.9\\\",\\\"9.0\\\",\\\"9.1\\\",\\\"9.2\\\",\\\"9.3\\\",\\\"9.4\\\",\\\"9.5\\\",\\\"9.6\\\",\\\"9.7\\\",\\\"9.8\\\",\\\"9.9\\\",\\\"10.0\\\"],\\\"changes\\\":WebIO.getval({\\\"name\\\":\\\"changes\\\",\\\"scope\\\":\\\"knockout-component-8f5c86ac-342e-429e-94db-e9cbfb6577f6\\\",\\\"id\\\":\\\"ob_06\\\",\\\"type\\\":\\\"observable\\\"}),\\\"index\\\":WebIO.getval({\\\"name\\\":\\\"index\\\",\\\"scope\\\":\\\"knockout-component-8f5c86ac-342e-429e-94db-e9cbfb6577f6\\\",\\\"id\\\":\\\"ob_05\\\",\\\"type\\\":\\\"observable\\\"})};\\n    var self = this;\\n    function AppViewModel() {\\n        for (var key in json_data) {\\n            var el = json_data[key];\\n            this[key] = Array.isArray(el) ? ko.observableArray(el) : ko.observable(el);\\n        }\\n        \\n        [this[\\\"formatted_val\\\"]=ko.computed(    function(){\\n        return this.formatted_vals()[parseInt(this.index())-1];\\n    }\\n,this)]\\n        [this[\\\"changes\\\"].subscribe((function (val){!(this.valueFromJulia[\\\"changes\\\"]) ? (WebIO.setval({\\\"name\\\":\\\"changes\\\",\\\"scope\\\":\\\"knockout-component-8f5c86ac-342e-429e-94db-e9cbfb6577f6\\\",\\\"id\\\":\\\"ob_06\\\",\\\"type\\\":\\\"observable\\\"},val)) : undefined; return this.valueFromJulia[\\\"changes\\\"]=false}),self),this[\\\"index\\\"].subscribe((function (val){!(this.valueFromJulia[\\\"index\\\"]) ? (WebIO.setval({\\\"name\\\":\\\"index\\\",\\\"scope\\\":\\\"knockout-component-8f5c86ac-342e-429e-94db-e9cbfb6577f6\\\",\\\"id\\\":\\\"ob_05\\\",\\\"type\\\":\\\"observable\\\"},val)) : undefined; return this.valueFromJulia[\\\"index\\\"]=false}),self)]\\n        \\n    }\\n    self.model = new AppViewModel();\\n    self.valueFromJulia = {};\\n    for (var key in json_data) {\\n        self.valueFromJulia[key] = false;\\n    }\\n    ko.applyBindings(self.model, self.dom);\\n}\\n);\\n    (WebIO.importBlock({\\\"data\\\":[{\\\"name\\\":\\\"knockout\\\",\\\"type\\\":\\\"js\\\",\\\"url\\\":\\\"\\/assetserver\\/ea8c2bba3d1cdc794fc7cdb917e670fe18a6de58-knockout.js\\\"},{\\\"name\\\":\\\"knockout_punches\\\",\\\"type\\\":\\\"js\\\",\\\"url\\\":\\\"\\/assetserver\\/d4a545de2fcaa3806ff0e485dace0a8ff2ce27b4-knockout_punches.js\\\"}],\\\"type\\\":\\\"async_block\\\"})).then((imports) => handler.apply(this, imports));\\n}\\n\"],\"observables\":{\"changes\":{\"sync\":false,\"id\":\"ob_06\",\"value\":0},\"index\":{\"sync\":true,\"id\":\"ob_05\",\"value\":101}}},\"children\":[{\"props\":{\"className\":\"interact-flex-row interact-widget\"},\"nodeType\":\"DOM\",\"type\":\"node\",\"instanceArgs\":{\"namespace\":\"html\",\"tag\":\"div\"},\"children\":[{\"props\":{\"className\":\"interact-flex-row-left\"},\"nodeType\":\"DOM\",\"type\":\"node\",\"instanceArgs\":{\"namespace\":\"html\",\"tag\":\"div\"},\"children\":[{\"props\":{\"className\":\"interact \",\"style\":{\"padding\":\"5px 10px 0px 10px\"}},\"nodeType\":\"DOM\",\"type\":\"node\",\"instanceArgs\":{\"namespace\":\"html\",\"tag\":\"label\"},\"children\":[\"light_y\"]}]},{\"props\":{\"className\":\"interact-flex-row-center\"},\"nodeType\":\"DOM\",\"type\":\"node\",\"instanceArgs\":{\"namespace\":\"html\",\"tag\":\"div\"},\"children\":[{\"props\":{\"max\":201,\"min\":1,\"attributes\":{\"type\":\"range\",\"data-bind\":\"numericValue: index, valueUpdate: 'input', event: {change: function (){this.changes(this.changes()+1)}}\",\"orient\":\"horizontal\"},\"step\":1,\"className\":\"slider slider is-fullwidth\",\"style\":{}},\"nodeType\":\"DOM\",\"type\":\"node\",\"instanceArgs\":{\"namespace\":\"html\",\"tag\":\"input\"},\"children\":[]}]},{\"props\":{\"className\":\"interact-flex-row-right\"},\"nodeType\":\"DOM\",\"type\":\"node\",\"instanceArgs\":{\"namespace\":\"html\",\"tag\":\"div\"},\"children\":[{\"props\":{\"attributes\":{\"data-bind\":\"text: formatted_val\"}},\"nodeType\":\"DOM\",\"type\":\"node\",\"instanceArgs\":{\"namespace\":\"html\",\"tag\":\"p\"},\"children\":[]}]}]}]}]},{\"props\":{},\"nodeType\":\"Scope\",\"type\":\"node\",\"instanceArgs\":{\"imports\":{\"data\":[],\"type\":\"async_block\"},\"id\":\"scope-4ff55036-d3ad-4388-8281-b1fb22c31b3c\",\"handlers\":{},\"systemjs_options\":null,\"mount_callbacks\":[],\"observables\":{\"obs-node\":{\"sync\":false,\"id\":\"ob_10\",\"value\":{\"props\":{\"className\":\"interact-flex-row interact-widget\"},\"nodeType\":\"DOM\",\"type\":\"node\",\"instanceArgs\":{\"namespace\":\"html\",\"tag\":\"div\"},\"children\":[{\"props\":{\"setInnerHtml\":\"<img src='data:image\\/png;base64,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'><\\/img>\"},\"nodeType\":\"DOM\",\"type\":\"node\",\"instanceArgs\":{\"namespace\":\"html\",\"tag\":\"div\"},\"children\":[]}]}}}},\"children\":[{\"props\":{},\"nodeType\":\"ObservableNode\",\"type\":\"node\",\"instanceArgs\":{\"id\":\"ob_10\",\"name\":\"obs-node\"},\"children\":[]}]}]},\n",
       "            window,\n",
       "        );\n",
       "    } else {\n",
       "        document\n",
       "            .querySelector('[data-webio-mountpoint=\"13302005946432711503\"]')\n",
       "            .innerHTML = '<strong>WebIO not detected.</strong>';\n",
       "    }\n",
       "    </script>\n",
       "</div>\n"
      ],
      "text/plain": [
       "Node{WebIO.DOM}(WebIO.DOM(:html, :div), Any[Node{WebIO.DOM}(WebIO.DOM(:html, :div), Any[Scope(\"knockout-component-c38aaa86-25c9-4f6a-bff6-d43e1ca05fc1\", Node{WebIO.DOM}(WebIO.DOM(:html, :div), Any[Node{WebIO.DOM}(WebIO.DOM(:html, :div), Any[Node{WebIO.DOM}(WebIO.DOM(:html, :label), Any[\"light_x\"], Dict{Symbol,Any}(:className => \"interact \",:style => Dict{Any,Any}(:padding => \"5px 10px 0px 10px\")), 1)], Dict{Symbol,Any}(:className => \"interact-flex-row-left\"), 2), Node{WebIO.DOM}(WebIO.DOM(:html, :div), Any[Node{WebIO.DOM}(WebIO.DOM(:html, :input), Any[], Dict{Symbol,Any}(:max => 201,:min => 1,:attributes => Dict{Any,Any}(:type => \"range\",Symbol(\"data-bind\") => \"numericValue: index, valueUpdate: 'input', event: {change: function (){this.changes(this.changes()+1)}}\",\"orient\" => \"horizontal\"),:step => 1,:className => \"slider slider is-fullwidth\",:style => Dict{Any,Any}()), 0)], Dict{Symbol,Any}(:className => \"interact-flex-row-center\"), 1), Node{WebIO.DOM}(WebIO.DOM(:html, :div), Any[Node{WebIO.DOM}(WebIO.DOM(:html, :p), Any[], Dict{Symbol,Any}(:attributes => Dict(\"data-bind\" => \"text: formatted_val\")), 0)], Dict{Symbol,Any}(:className => \"interact-flex-row-right\"), 1)], Dict{Symbol,Any}(:className => \"interact-flex-row interact-widget\"), 7), Dict{String,Tuple{Observables.AbstractObservable,Union{Nothing, Bool}}}(\"changes\" => (Observable{Int64} with 1 listeners. Value:\n",
       "0, nothing),\"index\" => (Observable{Any} with 2 listeners. Value:\n",
       "101, nothing)), Set(String[]), nothing, Asset[Asset(\"js\", \"knockout\", \"/Users/sabae/.julia/packages/Knockout/JE2Yq/src/../assets/knockout.js\"), Asset(\"js\", \"knockout_punches\", \"/Users/sabae/.julia/packages/Knockout/JE2Yq/src/../assets/knockout_punches.js\"), Asset(\"js\", nothing, \"/Users/sabae/.julia/packages/InteractBase/R8JgH/src/../assets/all.js\"), Asset(\"css\", nothing, \"/Users/sabae/.julia/packages/InteractBase/R8JgH/src/../assets/style.css\"), Asset(\"css\", nothing, \"/Users/sabae/.julia/packages/Interact/0klKX/src/../assets/bulma_confined.min.css\")], Dict{Any,Any}(\"changes\" => Any[WebIO.JSString(\"(function (val){return (val!=this.model[\\\"changes\\\"]()) ? (this.valueFromJulia[\\\"changes\\\"]=true, this.model[\\\"changes\\\"](val)) : undefined})\")],\"index\" => Any[WebIO.JSString(\"(function (val){return (val!=this.model[\\\"index\\\"]()) ? (this.valueFromJulia[\\\"index\\\"]=true, this.model[\\\"index\\\"](val)) : undefined})\")]), WebIO.ConnectionPool(Channel{Any}(sz_max:9223372036854775807,sz_curr:0), Set(AbstractConnection[]), Channel{AbstractConnection}(sz_max:32,sz_curr:0)), WebIO.JSString[WebIO.JSString(\"function () {\\n    var handler = (function (ko, koPunches) {\\n    ko.punches.enableAll();\\n    ko.bindingHandlers.numericValue = {\\n        init : function(element, valueAccessor, allBindings, data, context) {\\n            var stringified = ko.observable(ko.unwrap(valueAccessor()));\\n            stringified.subscribe(function(value) {\\n                var val = parseFloat(value);\\n                if (!isNaN(val)) {\\n                    valueAccessor()(val);\\n                }\\n            })\\n            valueAccessor().subscribe(function(value) {\\n                var str = JSON.stringify(value);\\n                if ((str == \\\"0\\\") && ([\\\"-0\\\", \\\"-0.\\\"].indexOf(stringified()) >= 0))\\n                     return;\\n                 if ([\\\"null\\\", \\\"\\\"].indexOf(str) >= 0)\\n                     return;\\n                stringified(str);\\n            })\\n            ko.applyBindingsToNode(element, { value: stringified, valueUpdate: allBindings.get('valueUpdate')}, context);\\n        }\\n    };\\n    var json_data = {\\\"formatted_vals\\\":[\\\"-10.0\\\",\\\"-9.9\\\",\\\"-9.8\\\",\\\"-9.7\\\",\\\"-9.6\\\",\\\"-9.5\\\",\\\"-9.4\\\",\\\"-9.3\\\",\\\"-9.2\\\",\\\"-9.1\\\",\\\"-9.0\\\",\\\"-8.9\\\",\\\"-8.8\\\",\\\"-8.7\\\",\\\"-8.6\\\",\\\"-8.5\\\",\\\"-8.4\\\",\\\"-8.3\\\",\\\"-8.2\\\",\\\"-8.1\\\",\\\"-8.0\\\",\\\"-7.9\\\",\\\"-7.8\\\",\\\"-7.7\\\",\\\"-7.6\\\",\\\"-7.5\\\",\\\"-7.4\\\",\\\"-7.3\\\",\\\"-7.2\\\",\\\"-7.1\\\",\\\"-7.0\\\",\\\"-6.9\\\",\\\"-6.8\\\",\\\"-6.7\\\",\\\"-6.6\\\",\\\"-6.5\\\",\\\"-6.4\\\",\\\"-6.3\\\",\\\"-6.2\\\",\\\"-6.1\\\",\\\"-6.0\\\",\\\"-5.9\\\",\\\"-5.8\\\",\\\"-5.7\\\",\\\"-5.6\\\",\\\"-5.5\\\",\\\"-5.4\\\",\\\"-5.3\\\",\\\"-5.2\\\",\\\"-5.1\\\",\\\"-5.0\\\",\\\"-4.9\\\",\\\"-4.8\\\",\\\"-4.7\\\",\\\"-4.6\\\",\\\"-4.5\\\",\\\"-4.4\\\",\\\"-4.3\\\",\\\"-4.2\\\",\\\"-4.1\\\",\\\"-4.0\\\",\\\"-3.9\\\",\\\"-3.8\\\",\\\"-3.7\\\",\\\"-3.6\\\",\\\"-3.5\\\",\\\"-3.4\\\",\\\"-3.3\\\",\\\"-3.2\\\",\\\"-3.1\\\",\\\"-3.0\\\",\\\"-2.9\\\",\\\"-2.8\\\",\\\"-2.7\\\",\\\"-2.6\\\",\\\"-2.5\\\",\\\"-2.4\\\",\\\"-2.3\\\",\\\"-2.2\\\",\\\"-2.1\\\",\\\"-2.0\\\",\\\"-1.9\\\",\\\"-1.8\\\",\\\"-1.7\\\",\\\"-1.6\\\",\\\"-1.5\\\",\\\"-1.4\\\",\\\"-1.3\\\",\\\"-1.2\\\",\\\"-1.1\\\",\\\"-1.0\\\",\\\"-0.9\\\",\\\"-0.8\\\",\\\"-0.7\\\",\\\"-0.6\\\",\\\"-0.5\\\",\\\"-0.4\\\",\\\"-0.3\\\",\\\"-0.2\\\",\\\"-0.1\\\",\\\"0.0\\\",\\\"0.1\\\",\\\"0.2\\\",\\\"0.3\\\",\\\"0.4\\\",\\\"0.5\\\",\\\"0.6\\\",\\\"0.7\\\",\\\"0.8\\\",\\\"0.9\\\",\\\"1.0\\\",\\\"1.1\\\",\\\"1.2\\\",\\\"1.3\\\",\\\"1.4\\\",\\\"1.5\\\",\\\"1.6\\\",\\\"1.7\\\",\\\"1.8\\\",\\\"1.9\\\",\\\"2.0\\\",\\\"2.1\\\",\\\"2.2\\\",\\\"2.3\\\",\\\"2.4\\\",\\\"2.5\\\",\\\"2.6\\\",\\\"2.7\\\",\\\"2.8\\\",\\\"2.9\\\",\\\"3.0\\\",\\\"3.1\\\",\\\"3.2\\\",\\\"3.3\\\",\\\"3.4\\\",\\\"3.5\\\",\\\"3.6\\\",\\\"3.7\\\",\\\"3.8\\\",\\\"3.9\\\",\\\"4.0\\\",\\\"4.1\\\",\\\"4.2\\\",\\\"4.3\\\",\\\"4.4\\\",\\\"4.5\\\",\\\"4.6\\\",\\\"4.7\\\",\\\"4.8\\\",\\\"4.9\\\",\\\"5.0\\\",\\\"5.1\\\",\\\"5.2\\\",\\\"5.3\\\",\\\"5.4\\\",\\\"5.5\\\",\\\"5.6\\\",\\\"5.7\\\",\\\"5.8\\\",\\\"5.9\\\",\\\"6.0\\\",\\\"6.1\\\",\\\"6.2\\\",\\\"6.3\\\",\\\"6.4\\\",\\\"6.5\\\",\\\"6.6\\\",\\\"6.7\\\",\\\"6.8\\\",\\\"6.9\\\",\\\"7.0\\\",\\\"7.1\\\",\\\"7.2\\\",\\\"7.3\\\",\\\"7.4\\\",\\\"7.5\\\",\\\"7.6\\\",\\\"7.7\\\",\\\"7.8\\\",\\\"7.9\\\",\\\"8.0\\\",\\\"8.1\\\",\\\"8.2\\\",\\\"8.3\\\",\\\"8.4\\\",\\\"8.5\\\",\\\"8.6\\\",\\\"8.7\\\",\\\"8.8\\\",\\\"8.9\\\",\\\"9.0\\\",\\\"9.1\\\",\\\"9.2\\\",\\\"9.3\\\",\\\"9.4\\\",\\\"9.5\\\",\\\"9.6\\\",\\\"9.7\\\",\\\"9.8\\\",\\\"9.9\\\",\\\"10.0\\\"],\\\"changes\\\":WebIO.getval({\\\"name\\\":\\\"changes\\\",\\\"scope\\\":\\\"knockout-component-c38aaa86-25c9-4f6a-bff6-d43e1ca05fc1\\\",\\\"id\\\":\\\"ob_03\\\",\\\"type\\\":\\\"observable\\\"}),\\\"index\\\":WebIO.getval({\\\"name\\\":\\\"index\\\",\\\"scope\\\":\\\"knockout-component-c38aaa86-25c9-4f6a-bff6-d43e1ca05fc1\\\",\\\"id\\\":\\\"ob_02\\\",\\\"type\\\":\\\"observable\\\"})};\\n    var self = this;\\n    function AppViewModel() {\\n        for (var key in json_data) {\\n            var el = json_data[key];\\n            this[key] = Array.isArray(el) ? ko.observableArray(el) : ko.observable(el);\\n        }\\n        \\n        [this[\\\"formatted_val\\\"]=ko.computed(    function(){\\n        return this.formatted_vals()[parseInt(this.index())-1];\\n    }\\n,this)]\\n        [this[\\\"changes\\\"].subscribe((function (val){!(this.valueFromJulia[\\\"changes\\\"]) ? (WebIO.setval({\\\"name\\\":\\\"changes\\\",\\\"scope\\\":\\\"knockout-component-c38aaa86-25c9-4f6a-bff6-d43e1ca05fc1\\\",\\\"id\\\":\\\"ob_03\\\",\\\"type\\\":\\\"observable\\\"},val)) : undefined; return this.valueFromJulia[\\\"changes\\\"]=false}),self),this[\\\"index\\\"].subscribe((function (val){!(this.valueFromJulia[\\\"index\\\"]) ? (WebIO.setval({\\\"name\\\":\\\"index\\\",\\\"scope\\\":\\\"knockout-component-c38aaa86-25c9-4f6a-bff6-d43e1ca05fc1\\\",\\\"id\\\":\\\"ob_02\\\",\\\"type\\\":\\\"observable\\\"},val)) : undefined; return this.valueFromJulia[\\\"index\\\"]=false}),self)]\\n        \\n    }\\n    self.model = new AppViewModel();\\n    self.valueFromJulia = {};\\n    for (var key in json_data) {\\n        self.valueFromJulia[key] = false;\\n    }\\n    ko.applyBindings(self.model, self.dom);\\n}\\n);\\n    (WebIO.importBlock({\\\"data\\\":[{\\\"name\\\":\\\"knockout\\\",\\\"type\\\":\\\"js\\\",\\\"url\\\":\\\"/assetserver/ea8c2bba3d1cdc794fc7cdb917e670fe18a6de58-knockout.js\\\"},{\\\"name\\\":\\\"knockout_punches\\\",\\\"type\\\":\\\"js\\\",\\\"url\\\":\\\"/assetserver/d4a545de2fcaa3806ff0e485dace0a8ff2ce27b4-knockout_punches.js\\\"}],\\\"type\\\":\\\"async_block\\\"})).then((imports) => handler.apply(this, imports));\\n}\\n\")])], Dict{Symbol,Any}(:className => \"field interact-widget\"), 1), Node{WebIO.DOM}(WebIO.DOM(:html, :div), Any[Scope(\"knockout-component-8f5c86ac-342e-429e-94db-e9cbfb6577f6\", Node{WebIO.DOM}(WebIO.DOM(:html, :div), Any[Node{WebIO.DOM}(WebIO.DOM(:html, :div), Any[Node{WebIO.DOM}(WebIO.DOM(:html, :label), Any[\"light_y\"], Dict{Symbol,Any}(:className => \"interact \",:style => Dict{Any,Any}(:padding => \"5px 10px 0px 10px\")), 1)], Dict{Symbol,Any}(:className => \"interact-flex-row-left\"), 2), Node{WebIO.DOM}(WebIO.DOM(:html, :div), Any[Node{WebIO.DOM}(WebIO.DOM(:html, :input), Any[], Dict{Symbol,Any}(:max => 201,:min => 1,:attributes => Dict{Any,Any}(:type => \"range\",Symbol(\"data-bind\") => \"numericValue: index, valueUpdate: 'input', event: {change: function (){this.changes(this.changes()+1)}}\",\"orient\" => \"horizontal\"),:step => 1,:className => \"slider slider is-fullwidth\",:style => Dict{Any,Any}()), 0)], Dict{Symbol,Any}(:className => \"interact-flex-row-center\"), 1), Node{WebIO.DOM}(WebIO.DOM(:html, :div), Any[Node{WebIO.DOM}(WebIO.DOM(:html, :p), Any[], Dict{Symbol,Any}(:attributes => Dict(\"data-bind\" => \"text: formatted_val\")), 0)], Dict{Symbol,Any}(:className => \"interact-flex-row-right\"), 1)], Dict{Symbol,Any}(:className => \"interact-flex-row interact-widget\"), 7), Dict{String,Tuple{Observables.AbstractObservable,Union{Nothing, Bool}}}(\"changes\" => (Observable{Int64} with 1 listeners. Value:\n",
       "0, nothing),\"index\" => (Observable{Any} with 2 listeners. Value:\n",
       "101, nothing)), Set(String[]), nothing, Asset[Asset(\"js\", \"knockout\", \"/Users/sabae/.julia/packages/Knockout/JE2Yq/src/../assets/knockout.js\"), Asset(\"js\", \"knockout_punches\", \"/Users/sabae/.julia/packages/Knockout/JE2Yq/src/../assets/knockout_punches.js\"), Asset(\"js\", nothing, \"/Users/sabae/.julia/packages/InteractBase/R8JgH/src/../assets/all.js\"), Asset(\"css\", nothing, \"/Users/sabae/.julia/packages/InteractBase/R8JgH/src/../assets/style.css\"), Asset(\"css\", nothing, \"/Users/sabae/.julia/packages/Interact/0klKX/src/../assets/bulma_confined.min.css\")], Dict{Any,Any}(\"changes\" => Any[WebIO.JSString(\"(function (val){return (val!=this.model[\\\"changes\\\"]()) ? (this.valueFromJulia[\\\"changes\\\"]=true, this.model[\\\"changes\\\"](val)) : undefined})\")],\"index\" => Any[WebIO.JSString(\"(function (val){return (val!=this.model[\\\"index\\\"]()) ? (this.valueFromJulia[\\\"index\\\"]=true, this.model[\\\"index\\\"](val)) : undefined})\")]), WebIO.ConnectionPool(Channel{Any}(sz_max:9223372036854775807,sz_curr:0), Set(AbstractConnection[]), Channel{AbstractConnection}(sz_max:32,sz_curr:0)), WebIO.JSString[WebIO.JSString(\"function () {\\n    var handler = (function (ko, koPunches) {\\n    ko.punches.enableAll();\\n    ko.bindingHandlers.numericValue = {\\n        init : function(element, valueAccessor, allBindings, data, context) {\\n            var stringified = ko.observable(ko.unwrap(valueAccessor()));\\n            stringified.subscribe(function(value) {\\n                var val = parseFloat(value);\\n                if (!isNaN(val)) {\\n                    valueAccessor()(val);\\n                }\\n            })\\n            valueAccessor().subscribe(function(value) {\\n                var str = JSON.stringify(value);\\n                if ((str == \\\"0\\\") && ([\\\"-0\\\", \\\"-0.\\\"].indexOf(stringified()) >= 0))\\n                     return;\\n                 if ([\\\"null\\\", \\\"\\\"].indexOf(str) >= 0)\\n                     return;\\n                stringified(str);\\n            })\\n            ko.applyBindingsToNode(element, { value: stringified, valueUpdate: allBindings.get('valueUpdate')}, context);\\n        }\\n    };\\n    var json_data = {\\\"formatted_vals\\\":[\\\"-10.0\\\",\\\"-9.9\\\",\\\"-9.8\\\",\\\"-9.7\\\",\\\"-9.6\\\",\\\"-9.5\\\",\\\"-9.4\\\",\\\"-9.3\\\",\\\"-9.2\\\",\\\"-9.1\\\",\\\"-9.0\\\",\\\"-8.9\\\",\\\"-8.8\\\",\\\"-8.7\\\",\\\"-8.6\\\",\\\"-8.5\\\",\\\"-8.4\\\",\\\"-8.3\\\",\\\"-8.2\\\",\\\"-8.1\\\",\\\"-8.0\\\",\\\"-7.9\\\",\\\"-7.8\\\",\\\"-7.7\\\",\\\"-7.6\\\",\\\"-7.5\\\",\\\"-7.4\\\",\\\"-7.3\\\",\\\"-7.2\\\",\\\"-7.1\\\",\\\"-7.0\\\",\\\"-6.9\\\",\\\"-6.8\\\",\\\"-6.7\\\",\\\"-6.6\\\",\\\"-6.5\\\",\\\"-6.4\\\",\\\"-6.3\\\",\\\"-6.2\\\",\\\"-6.1\\\",\\\"-6.0\\\",\\\"-5.9\\\",\\\"-5.8\\\",\\\"-5.7\\\",\\\"-5.6\\\",\\\"-5.5\\\",\\\"-5.4\\\",\\\"-5.3\\\",\\\"-5.2\\\",\\\"-5.1\\\",\\\"-5.0\\\",\\\"-4.9\\\",\\\"-4.8\\\",\\\"-4.7\\\",\\\"-4.6\\\",\\\"-4.5\\\",\\\"-4.4\\\",\\\"-4.3\\\",\\\"-4.2\\\",\\\"-4.1\\\",\\\"-4.0\\\",\\\"-3.9\\\",\\\"-3.8\\\",\\\"-3.7\\\",\\\"-3.6\\\",\\\"-3.5\\\",\\\"-3.4\\\",\\\"-3.3\\\",\\\"-3.2\\\",\\\"-3.1\\\",\\\"-3.0\\\",\\\"-2.9\\\",\\\"-2.8\\\",\\\"-2.7\\\",\\\"-2.6\\\",\\\"-2.5\\\",\\\"-2.4\\\",\\\"-2.3\\\",\\\"-2.2\\\",\\\"-2.1\\\",\\\"-2.0\\\",\\\"-1.9\\\",\\\"-1.8\\\",\\\"-1.7\\\",\\\"-1.6\\\",\\\"-1.5\\\",\\\"-1.4\\\",\\\"-1.3\\\",\\\"-1.2\\\",\\\"-1.1\\\",\\\"-1.0\\\",\\\"-0.9\\\",\\\"-0.8\\\",\\\"-0.7\\\",\\\"-0.6\\\",\\\"-0.5\\\",\\\"-0.4\\\",\\\"-0.3\\\",\\\"-0.2\\\",\\\"-0.1\\\",\\\"0.0\\\",\\\"0.1\\\",\\\"0.2\\\",\\\"0.3\\\",\\\"0.4\\\",\\\"0.5\\\",\\\"0.6\\\",\\\"0.7\\\",\\\"0.8\\\",\\\"0.9\\\",\\\"1.0\\\",\\\"1.1\\\",\\\"1.2\\\",\\\"1.3\\\",\\\"1.4\\\",\\\"1.5\\\",\\\"1.6\\\",\\\"1.7\\\",\\\"1.8\\\",\\\"1.9\\\",\\\"2.0\\\",\\\"2.1\\\",\\\"2.2\\\",\\\"2.3\\\",\\\"2.4\\\",\\\"2.5\\\",\\\"2.6\\\",\\\"2.7\\\",\\\"2.8\\\",\\\"2.9\\\",\\\"3.0\\\",\\\"3.1\\\",\\\"3.2\\\",\\\"3.3\\\",\\\"3.4\\\",\\\"3.5\\\",\\\"3.6\\\",\\\"3.7\\\",\\\"3.8\\\",\\\"3.9\\\",\\\"4.0\\\",\\\"4.1\\\",\\\"4.2\\\",\\\"4.3\\\",\\\"4.4\\\",\\\"4.5\\\",\\\"4.6\\\",\\\"4.7\\\",\\\"4.8\\\",\\\"4.9\\\",\\\"5.0\\\",\\\"5.1\\\",\\\"5.2\\\",\\\"5.3\\\",\\\"5.4\\\",\\\"5.5\\\",\\\"5.6\\\",\\\"5.7\\\",\\\"5.8\\\",\\\"5.9\\\",\\\"6.0\\\",\\\"6.1\\\",\\\"6.2\\\",\\\"6.3\\\",\\\"6.4\\\",\\\"6.5\\\",\\\"6.6\\\",\\\"6.7\\\",\\\"6.8\\\",\\\"6.9\\\",\\\"7.0\\\",\\\"7.1\\\",\\\"7.2\\\",\\\"7.3\\\",\\\"7.4\\\",\\\"7.5\\\",\\\"7.6\\\",\\\"7.7\\\",\\\"7.8\\\",\\\"7.9\\\",\\\"8.0\\\",\\\"8.1\\\",\\\"8.2\\\",\\\"8.3\\\",\\\"8.4\\\",\\\"8.5\\\",\\\"8.6\\\",\\\"8.7\\\",\\\"8.8\\\",\\\"8.9\\\",\\\"9.0\\\",\\\"9.1\\\",\\\"9.2\\\",\\\"9.3\\\",\\\"9.4\\\",\\\"9.5\\\",\\\"9.6\\\",\\\"9.7\\\",\\\"9.8\\\",\\\"9.9\\\",\\\"10.0\\\"],\\\"changes\\\":WebIO.getval({\\\"name\\\":\\\"changes\\\",\\\"scope\\\":\\\"knockout-component-8f5c86ac-342e-429e-94db-e9cbfb6577f6\\\",\\\"id\\\":\\\"ob_06\\\",\\\"type\\\":\\\"observable\\\"}),\\\"index\\\":WebIO.getval({\\\"name\\\":\\\"index\\\",\\\"scope\\\":\\\"knockout-component-8f5c86ac-342e-429e-94db-e9cbfb6577f6\\\",\\\"id\\\":\\\"ob_05\\\",\\\"type\\\":\\\"observable\\\"})};\\n    var self = this;\\n    function AppViewModel() {\\n        for (var key in json_data) {\\n            var el = json_data[key];\\n            this[key] = Array.isArray(el) ? ko.observableArray(el) : ko.observable(el);\\n        }\\n        \\n        [this[\\\"formatted_val\\\"]=ko.computed(    function(){\\n        return this.formatted_vals()[parseInt(this.index())-1];\\n    }\\n,this)]\\n        [this[\\\"changes\\\"].subscribe((function (val){!(this.valueFromJulia[\\\"changes\\\"]) ? (WebIO.setval({\\\"name\\\":\\\"changes\\\",\\\"scope\\\":\\\"knockout-component-8f5c86ac-342e-429e-94db-e9cbfb6577f6\\\",\\\"id\\\":\\\"ob_06\\\",\\\"type\\\":\\\"observable\\\"},val)) : undefined; return this.valueFromJulia[\\\"changes\\\"]=false}),self),this[\\\"index\\\"].subscribe((function (val){!(this.valueFromJulia[\\\"index\\\"]) ? (WebIO.setval({\\\"name\\\":\\\"index\\\",\\\"scope\\\":\\\"knockout-component-8f5c86ac-342e-429e-94db-e9cbfb6577f6\\\",\\\"id\\\":\\\"ob_05\\\",\\\"type\\\":\\\"observable\\\"},val)) : undefined; return this.valueFromJulia[\\\"index\\\"]=false}),self)]\\n        \\n    }\\n    self.model = new AppViewModel();\\n    self.valueFromJulia = {};\\n    for (var key in json_data) {\\n        self.valueFromJulia[key] = false;\\n    }\\n    ko.applyBindings(self.model, self.dom);\\n}\\n);\\n    (WebIO.importBlock({\\\"data\\\":[{\\\"name\\\":\\\"knockout\\\",\\\"type\\\":\\\"js\\\",\\\"url\\\":\\\"/assetserver/ea8c2bba3d1cdc794fc7cdb917e670fe18a6de58-knockout.js\\\"},{\\\"name\\\":\\\"knockout_punches\\\",\\\"type\\\":\\\"js\\\",\\\"url\\\":\\\"/assetserver/d4a545de2fcaa3806ff0e485dace0a8ff2ce27b4-knockout_punches.js\\\"}],\\\"type\\\":\\\"async_block\\\"})).then((imports) => handler.apply(this, imports));\\n}\\n\")])], Dict{Symbol,Any}(:className => \"field interact-widget\"), 1), Observable{Any} with 0 listeners. Value:\n",
       "Node{WebIO.DOM}(WebIO.DOM(:html, :div), Any[RGB{Float32}[RGB{Float32}(0.0f0,0.0f0,0.0f0) RGB{Float32}(0.0f0,0.0f0,0.0f0) … RGB{Float32}(0.0f0,0.0f0,0.0f0) RGB{Float32}(0.0f0,0.0f0,0.0f0); RGB{Float32}(0.0f0,0.0f0,0.0f0) RGB{Float32}(0.0f0,0.0f0,0.0f0) … RGB{Float32}(0.0f0,0.0f0,0.0f0) RGB{Float32}(0.0f0,0.0f0,0.0f0); … ; RGB{Float32}(0.0f0,0.0f0,0.0f0) RGB{Float32}(0.0f0,0.0f0,0.0f0) … RGB{Float32}(0.0f0,0.0f0,0.0f0) RGB{Float32}(0.0f0,0.0f0,0.0f0); RGB{Float32}(0.0f0,0.0f0,0.0f0) RGB{Float32}(0.0f0,0.0f0,0.0f0) … RGB{Float32}(0.0f0,0.0f0,0.0f0) RGB{Float32}(0.0f0,0.0f0,0.0f0)]], Dict{Symbol,Any}(:className => \"interact-flex-row interact-widget\"), 1)], Dict{Symbol,Any}(), 3)"
      ]
     },
     "execution_count": 3,
     "metadata": {
      "application/vnd.webio.node+json": {
       "kernelId": "3aaa1a97-827f-4637-bc4e-d0441e25b609"
      }
     },
     "output_type": "execute_result"
    }
   ],
   "source": [
    "# Simple scene with two triangles\n",
    "scene_gt = [\n",
    "    Triangle(\n",
    "        Vec3(-1.7f0,  1.0f0, 0.0f0),\n",
    "        Vec3( 1.0f0,  1.0f0, 0.0f0),\n",
    "        Vec3(-0.5f0, -1.0f0, 0.0f0),\n",
    "        color = rgb(0.0f0, 1.0f0, 0.0f0),\n",
    "        reflection = 0.5f0,\n",
    "    ),\n",
    "    Triangle(\n",
    "        Vec3(0.0f0,  0.3f0, -1.0f0),\n",
    "        Vec3(1.6f0,  0.0f0, -0.9f0),\n",
    "        Vec3(1.3f0, -0.8f0, -0.5f0),\n",
    "        color = rgb(1.0f0, 0.0f0, 0.0f0),\n",
    "        reflection = 0.4f0,\n",
    "    ),\n",
    "]\n",
    "\n",
    "\n",
    "@manipulate for light_x in -10:0.1f0:10,\n",
    "                light_y in -10:0.1f0:10\n",
    "    global light_gt, image_gt, scene_gt\n",
    "    \n",
    "    light_gt = PointLight(\n",
    "        # Color\n",
    "        Vec3(1.0f0, 1.0f0, 0.0f0),\n",
    "        # Intensity\n",
    "        20000.0f0,\n",
    "        # Position\n",
    "        Vec3(light_x, light_y, -10.0f0)\n",
    "    )\n",
    "\n",
    "    image_gt = render(scene_gt, light_gt)\n",
    "    showimg(image_gt)\n",
    "end"
   ]
  },
  {
   "cell_type": "markdown",
   "metadata": {},
   "source": [
    "# Training loop"
   ]
  },
  {
   "cell_type": "code",
   "execution_count": 4,
   "metadata": {},
   "outputs": [
    {
     "data": {
      "image/png": "[encoded data removed]",
      "text/plain": [
       "200×200 reshape(reinterpret(RGB{Float32}, ::Array{Float32,3}), 200, 200) with eltype RGB{Float32}:\n",
       " RGB{Float32}(0.0,0.0,0.0)  …  RGB{Float32}(0.0,0.0,0.0)\n",
       " RGB{Float32}(0.0,0.0,0.0)     RGB{Float32}(0.0,0.0,0.0)\n",
       " RGB{Float32}(0.0,0.0,0.0)     RGB{Float32}(0.0,0.0,0.0)\n",
       " RGB{Float32}(0.0,0.0,0.0)     RGB{Float32}(0.0,0.0,0.0)\n",
       " RGB{Float32}(0.0,0.0,0.0)     RGB{Float32}(0.0,0.0,0.0)\n",
       " RGB{Float32}(0.0,0.0,0.0)  …  RGB{Float32}(0.0,0.0,0.0)\n",
       " RGB{Float32}(0.0,0.0,0.0)     RGB{Float32}(0.0,0.0,0.0)\n",
       " RGB{Float32}(0.0,0.0,0.0)     RGB{Float32}(0.0,0.0,0.0)\n",
       " RGB{Float32}(0.0,0.0,0.0)     RGB{Float32}(0.0,0.0,0.0)\n",
       " RGB{Float32}(0.0,0.0,0.0)     RGB{Float32}(0.0,0.0,0.0)\n",
       " RGB{Float32}(0.0,0.0,0.0)  …  RGB{Float32}(0.0,0.0,0.0)\n",
       " RGB{Float32}(0.0,0.0,0.0)     RGB{Float32}(0.0,0.0,0.0)\n",
       " RGB{Float32}(0.0,0.0,0.0)     RGB{Float32}(0.0,0.0,0.0)\n",
       " ⋮                          ⋱                           \n",
       " RGB{Float32}(0.0,0.0,0.0)     RGB{Float32}(0.0,0.0,0.0)\n",
       " RGB{Float32}(0.0,0.0,0.0)     RGB{Float32}(0.0,0.0,0.0)\n",
       " RGB{Float32}(0.0,0.0,0.0)  …  RGB{Float32}(0.0,0.0,0.0)\n",
       " RGB{Float32}(0.0,0.0,0.0)     RGB{Float32}(0.0,0.0,0.0)\n",
       " RGB{Float32}(0.0,0.0,0.0)     RGB{Float32}(0.0,0.0,0.0)\n",
       " RGB{Float32}(0.0,0.0,0.0)     RGB{Float32}(0.0,0.0,0.0)\n",
       " RGB{Float32}(0.0,0.0,0.0)     RGB{Float32}(0.0,0.0,0.0)\n",
       " RGB{Float32}(0.0,0.0,0.0)  …  RGB{Float32}(0.0,0.0,0.0)\n",
       " RGB{Float32}(0.0,0.0,0.0)     RGB{Float32}(0.0,0.0,0.0)\n",
       " RGB{Float32}(0.0,0.0,0.0)     RGB{Float32}(0.0,0.0,0.0)\n",
       " RGB{Float32}(0.0,0.0,0.0)     RGB{Float32}(0.0,0.0,0.0)\n",
       " RGB{Float32}(0.0,0.0,0.0)     RGB{Float32}(0.0,0.0,0.0)"
      ]
     },
     "execution_count": 4,
     "metadata": {},
     "output_type": "execute_result"
    }
   ],
   "source": [
    "# Start out the `light` at an incorrect position\n",
    "light = PointLight(Vec3(1.0f0, 1.0f0, 0.0f0), 20000.0f0, Vec3(0.0f0, 0.0f0, -11.0f0))\n",
    "\n",
    "scene = [\n",
    "    Triangle(\n",
    "        Vec3(-1.7f0,  1.0f0, 0.0f0),\n",
    "        Vec3( 1.0f0,  1.0f0, 0.0f0),\n",
    "        Vec3(-0.5f0, -1.0f0, 0.0f0),\n",
    "        color = rgb(0.0f0, 1.0f0, 0.0f0),\n",
    "        reflection = 0.6f0,\n",
    "    ),\n",
    "    Triangle(\n",
    "        Vec3(0.0f0,  0.3f0, -1.0f0),\n",
    "        Vec3(1.6f0,  0.0f0, -0.9f0),\n",
    "        Vec3(1.3f0, -0.8f0, -0.5f0),\n",
    "        color = rgb(1.0f0, 0.0f0, 0.0f0),\n",
    "        reflection = 0.4f0,\n",
    "    ),\n",
    "]\n",
    "\n",
    "showimg(render(scene, light))"
   ]
  },
  {
   "cell_type": "code",
   "execution_count": 5,
   "metadata": {
    "scrolled": false
   },
   "outputs": [
    {
     "name": "stdout",
     "output_type": "stream",
     "text": [
      "loss = 0.003516449f0\n"
     ]
    },
    {
     "data": {
      "image/png": "[encoded data removed]",
      "text/plain": [
       "200×200 reshape(reinterpret(RGB{Float32}, ::Array{Float32,3}), 200, 200) with eltype RGB{Float32}:\n",
       " RGB{Float32}(0.0,0.0,0.0)  …  RGB{Float32}(0.0,0.0,0.0)\n",
       " RGB{Float32}(0.0,0.0,0.0)     RGB{Float32}(0.0,0.0,0.0)\n",
       " RGB{Float32}(0.0,0.0,0.0)     RGB{Float32}(0.0,0.0,0.0)\n",
       " RGB{Float32}(0.0,0.0,0.0)     RGB{Float32}(0.0,0.0,0.0)\n",
       " RGB{Float32}(0.0,0.0,0.0)     RGB{Float32}(0.0,0.0,0.0)\n",
       " RGB{Float32}(0.0,0.0,0.0)  …  RGB{Float32}(0.0,0.0,0.0)\n",
       " RGB{Float32}(0.0,0.0,0.0)     RGB{Float32}(0.0,0.0,0.0)\n",
       " RGB{Float32}(0.0,0.0,0.0)     RGB{Float32}(0.0,0.0,0.0)\n",
       " RGB{Float32}(0.0,0.0,0.0)     RGB{Float32}(0.0,0.0,0.0)\n",
       " RGB{Float32}(0.0,0.0,0.0)     RGB{Float32}(0.0,0.0,0.0)\n",
       " RGB{Float32}(0.0,0.0,0.0)  …  RGB{Float32}(0.0,0.0,0.0)\n",
       " RGB{Float32}(0.0,0.0,0.0)     RGB{Float32}(0.0,0.0,0.0)\n",
       " RGB{Float32}(0.0,0.0,0.0)     RGB{Float32}(0.0,0.0,0.0)\n",
       " ⋮                          ⋱                           \n",
       " RGB{Float32}(0.0,0.0,0.0)     RGB{Float32}(0.0,0.0,0.0)\n",
       " RGB{Float32}(0.0,0.0,0.0)     RGB{Float32}(0.0,0.0,0.0)\n",
       " RGB{Float32}(0.0,0.0,0.0)  …  RGB{Float32}(0.0,0.0,0.0)\n",
       " RGB{Float32}(0.0,0.0,0.0)     RGB{Float32}(0.0,0.0,0.0)\n",
       " RGB{Float32}(0.0,0.0,0.0)     RGB{Float32}(0.0,0.0,0.0)\n",
       " RGB{Float32}(0.0,0.0,0.0)     RGB{Float32}(0.0,0.0,0.0)\n",
       " RGB{Float32}(0.0,0.0,0.0)     RGB{Float32}(0.0,0.0,0.0)\n",
       " RGB{Float32}(0.0,0.0,0.0)  …  RGB{Float32}(0.0,0.0,0.0)\n",
       " RGB{Float32}(0.0,0.0,0.0)     RGB{Float32}(0.0,0.0,0.0)\n",
       " RGB{Float32}(0.0,0.0,0.0)     RGB{Float32}(0.0,0.0,0.0)\n",
       " RGB{Float32}(0.0,0.0,0.0)     RGB{Float32}(0.0,0.0,0.0)\n",
       " RGB{Float32}(0.0,0.0,0.0)     RGB{Float32}(0.0,0.0,0.0)"
      ]
     },
     "metadata": {},
     "output_type": "display_data"
    },
    {
     "name": "stderr",
     "output_type": "stream",
     "text": [
      "┌ Info: 1 iterations completed\n",
      "└ @ Main In[5]:26\n"
     ]
    },
    {
     "name": "stdout",
     "output_type": "stream",
     "text": [
      "loss = 0.0035046989f0\n",
      "loss = 0.003466695f0\n",
      "loss = 0.0034169175f0\n",
      "loss = 0.0033550896f0\n",
      "loss = 0.0032816264f0\n",
      "loss = 0.0032044f0\n",
      "loss = 0.0031147993f0\n",
      "loss = 0.0030166926f0\n",
      "loss = 0.0029100836f0\n",
      "loss = 0.002786581f0\n"
     ]
    },
    {
     "data": {
      "image/png": "[encoded data removed]",
      "text/plain": [
       "200×200 reshape(reinterpret(RGB{Float32}, ::Array{Float32,3}), 200, 200) with eltype RGB{Float32}:\n",
       " RGB{Float32}(0.0,0.0,0.0)  …  RGB{Float32}(0.0,0.0,0.0)\n",
       " RGB{Float32}(0.0,0.0,0.0)     RGB{Float32}(0.0,0.0,0.0)\n",
       " RGB{Float32}(0.0,0.0,0.0)     RGB{Float32}(0.0,0.0,0.0)\n",
       " RGB{Float32}(0.0,0.0,0.0)     RGB{Float32}(0.0,0.0,0.0)\n",
       " RGB{Float32}(0.0,0.0,0.0)     RGB{Float32}(0.0,0.0,0.0)\n",
       " RGB{Float32}(0.0,0.0,0.0)  …  RGB{Float32}(0.0,0.0,0.0)\n",
       " RGB{Float32}(0.0,0.0,0.0)     RGB{Float32}(0.0,0.0,0.0)\n",
       " RGB{Float32}(0.0,0.0,0.0)     RGB{Float32}(0.0,0.0,0.0)\n",
       " RGB{Float32}(0.0,0.0,0.0)     RGB{Float32}(0.0,0.0,0.0)\n",
       " RGB{Float32}(0.0,0.0,0.0)     RGB{Float32}(0.0,0.0,0.0)\n",
       " RGB{Float32}(0.0,0.0,0.0)  …  RGB{Float32}(0.0,0.0,0.0)\n",
       " RGB{Float32}(0.0,0.0,0.0)     RGB{Float32}(0.0,0.0,0.0)\n",
       " RGB{Float32}(0.0,0.0,0.0)     RGB{Float32}(0.0,0.0,0.0)\n",
       " ⋮                          ⋱                           \n",
       " RGB{Float32}(0.0,0.0,0.0)     RGB{Float32}(0.0,0.0,0.0)\n",
       " RGB{Float32}(0.0,0.0,0.0)     RGB{Float32}(0.0,0.0,0.0)\n",
       " RGB{Float32}(0.0,0.0,0.0)  …  RGB{Float32}(0.0,0.0,0.0)\n",
       " RGB{Float32}(0.0,0.0,0.0)     RGB{Float32}(0.0,0.0,0.0)\n",
       " RGB{Float32}(0.0,0.0,0.0)     RGB{Float32}(0.0,0.0,0.0)\n",
       " RGB{Float32}(0.0,0.0,0.0)     RGB{Float32}(0.0,0.0,0.0)\n",
       " RGB{Float32}(0.0,0.0,0.0)     RGB{Float32}(0.0,0.0,0.0)\n",
       " RGB{Float32}(0.0,0.0,0.0)  …  RGB{Float32}(0.0,0.0,0.0)\n",
       " RGB{Float32}(0.0,0.0,0.0)     RGB{Float32}(0.0,0.0,0.0)\n",
       " RGB{Float32}(0.0,0.0,0.0)     RGB{Float32}(0.0,0.0,0.0)\n",
       " RGB{Float32}(0.0,0.0,0.0)     RGB{Float32}(0.0,0.0,0.0)\n",
       " RGB{Float32}(0.0,0.0,0.0)     RGB{Float32}(0.0,0.0,0.0)"
      ]
     },
     "metadata": {},
     "output_type": "display_data"
    },
    {
     "name": "stderr",
     "output_type": "stream",
     "text": [
      "┌ Info: 11 iterations completed\n",
      "└ @ Main In[5]:26\n"
     ]
    },
    {
     "name": "stdout",
     "output_type": "stream",
     "text": [
      "loss = 0.0026639346f0\n",
      "loss = 0.002522308f0\n",
      "loss = 0.0023874852f0\n",
      "loss = 0.0022445768f0\n",
      "loss = 0.0020946297f0\n",
      "loss = 0.0019481931f0\n",
      "loss = 0.001802167f0\n",
      "loss = 0.0016537956f0\n",
      "loss = 0.0015236647f0\n",
      "loss = 0.001394169f0\n"
     ]
    },
    {
     "data": {
      "image/png": "[encoded data removed]",
      "text/plain": [
       "200×200 reshape(reinterpret(RGB{Float32}, ::Array{Float32,3}), 200, 200) with eltype RGB{Float32}:\n",
       " RGB{Float32}(0.0,0.0,0.0)  …  RGB{Float32}(0.0,0.0,0.0)\n",
       " RGB{Float32}(0.0,0.0,0.0)     RGB{Float32}(0.0,0.0,0.0)\n",
       " RGB{Float32}(0.0,0.0,0.0)     RGB{Float32}(0.0,0.0,0.0)\n",
       " RGB{Float32}(0.0,0.0,0.0)     RGB{Float32}(0.0,0.0,0.0)\n",
       " RGB{Float32}(0.0,0.0,0.0)     RGB{Float32}(0.0,0.0,0.0)\n",
       " RGB{Float32}(0.0,0.0,0.0)  …  RGB{Float32}(0.0,0.0,0.0)\n",
       " RGB{Float32}(0.0,0.0,0.0)     RGB{Float32}(0.0,0.0,0.0)\n",
       " RGB{Float32}(0.0,0.0,0.0)     RGB{Float32}(0.0,0.0,0.0)\n",
       " RGB{Float32}(0.0,0.0,0.0)     RGB{Float32}(0.0,0.0,0.0)\n",
       " RGB{Float32}(0.0,0.0,0.0)     RGB{Float32}(0.0,0.0,0.0)\n",
       " RGB{Float32}(0.0,0.0,0.0)  …  RGB{Float32}(0.0,0.0,0.0)\n",
       " RGB{Float32}(0.0,0.0,0.0)     RGB{Float32}(0.0,0.0,0.0)\n",
       " RGB{Float32}(0.0,0.0,0.0)     RGB{Float32}(0.0,0.0,0.0)\n",
       " ⋮                          ⋱                           \n",
       " RGB{Float32}(0.0,0.0,0.0)     RGB{Float32}(0.0,0.0,0.0)\n",
       " RGB{Float32}(0.0,0.0,0.0)     RGB{Float32}(0.0,0.0,0.0)\n",
       " RGB{Float32}(0.0,0.0,0.0)  …  RGB{Float32}(0.0,0.0,0.0)\n",
       " RGB{Float32}(0.0,0.0,0.0)     RGB{Float32}(0.0,0.0,0.0)\n",
       " RGB{Float32}(0.0,0.0,0.0)     RGB{Float32}(0.0,0.0,0.0)\n",
       " RGB{Float32}(0.0,0.0,0.0)     RGB{Float32}(0.0,0.0,0.0)\n",
       " RGB{Float32}(0.0,0.0,0.0)     RGB{Float32}(0.0,0.0,0.0)\n",
       " RGB{Float32}(0.0,0.0,0.0)  …  RGB{Float32}(0.0,0.0,0.0)\n",
       " RGB{Float32}(0.0,0.0,0.0)     RGB{Float32}(0.0,0.0,0.0)\n",
       " RGB{Float32}(0.0,0.0,0.0)     RGB{Float32}(0.0,0.0,0.0)\n",
       " RGB{Float32}(0.0,0.0,0.0)     RGB{Float32}(0.0,0.0,0.0)\n",
       " RGB{Float32}(0.0,0.0,0.0)     RGB{Float32}(0.0,0.0,0.0)"
      ]
     },
     "metadata": {},
     "output_type": "display_data"
    },
    {
     "name": "stderr",
     "output_type": "stream",
     "text": [
      "┌ Info: 21 iterations completed\n",
      "└ @ Main In[5]:26\n"
     ]
    },
    {
     "name": "stdout",
     "output_type": "stream",
     "text": [
      "loss = 0.0012726664f0\n",
      "loss = 0.0011652499f0\n",
      "loss = 0.0010617966f0\n",
      "loss = 0.0009654896f0\n",
      "loss = 0.0008761051f0\n",
      "loss = 0.00079300377f0\n",
      "loss = 0.00071916246f0\n",
      "loss = 0.00064828584f0\n",
      "loss = 0.0005827715f0\n",
      "loss = 0.0005274295f0\n"
     ]
    },
    {
     "data": {
      "image/png": "[encoded data removed]",
      "text/plain": [
       "200×200 reshape(reinterpret(RGB{Float32}, ::Array{Float32,3}), 200, 200) with eltype RGB{Float32}:\n",
       " RGB{Float32}(0.0,0.0,0.0)  …  RGB{Float32}(0.0,0.0,0.0)\n",
       " RGB{Float32}(0.0,0.0,0.0)     RGB{Float32}(0.0,0.0,0.0)\n",
       " RGB{Float32}(0.0,0.0,0.0)     RGB{Float32}(0.0,0.0,0.0)\n",
       " RGB{Float32}(0.0,0.0,0.0)     RGB{Float32}(0.0,0.0,0.0)\n",
       " RGB{Float32}(0.0,0.0,0.0)     RGB{Float32}(0.0,0.0,0.0)\n",
       " RGB{Float32}(0.0,0.0,0.0)  …  RGB{Float32}(0.0,0.0,0.0)\n",
       " RGB{Float32}(0.0,0.0,0.0)     RGB{Float32}(0.0,0.0,0.0)\n",
       " RGB{Float32}(0.0,0.0,0.0)     RGB{Float32}(0.0,0.0,0.0)\n",
       " RGB{Float32}(0.0,0.0,0.0)     RGB{Float32}(0.0,0.0,0.0)\n",
       " RGB{Float32}(0.0,0.0,0.0)     RGB{Float32}(0.0,0.0,0.0)\n",
       " RGB{Float32}(0.0,0.0,0.0)  …  RGB{Float32}(0.0,0.0,0.0)\n",
       " RGB{Float32}(0.0,0.0,0.0)     RGB{Float32}(0.0,0.0,0.0)\n",
       " RGB{Float32}(0.0,0.0,0.0)     RGB{Float32}(0.0,0.0,0.0)\n",
       " ⋮                          ⋱                           \n",
       " RGB{Float32}(0.0,0.0,0.0)     RGB{Float32}(0.0,0.0,0.0)\n",
       " RGB{Float32}(0.0,0.0,0.0)     RGB{Float32}(0.0,0.0,0.0)\n",
       " RGB{Float32}(0.0,0.0,0.0)  …  RGB{Float32}(0.0,0.0,0.0)\n",
       " RGB{Float32}(0.0,0.0,0.0)     RGB{Float32}(0.0,0.0,0.0)\n",
       " RGB{Float32}(0.0,0.0,0.0)     RGB{Float32}(0.0,0.0,0.0)\n",
       " RGB{Float32}(0.0,0.0,0.0)     RGB{Float32}(0.0,0.0,0.0)\n",
       " RGB{Float32}(0.0,0.0,0.0)     RGB{Float32}(0.0,0.0,0.0)\n",
       " RGB{Float32}(0.0,0.0,0.0)  …  RGB{Float32}(0.0,0.0,0.0)\n",
       " RGB{Float32}(0.0,0.0,0.0)     RGB{Float32}(0.0,0.0,0.0)\n",
       " RGB{Float32}(0.0,0.0,0.0)     RGB{Float32}(0.0,0.0,0.0)\n",
       " RGB{Float32}(0.0,0.0,0.0)     RGB{Float32}(0.0,0.0,0.0)\n",
       " RGB{Float32}(0.0,0.0,0.0)     RGB{Float32}(0.0,0.0,0.0)"
      ]
     },
     "metadata": {},
     "output_type": "display_data"
    },
    {
     "name": "stderr",
     "output_type": "stream",
     "text": [
      "┌ Info: 31 iterations completed\n",
      "└ @ Main In[5]:26\n"
     ]
    },
    {
     "name": "stdout",
     "output_type": "stream",
     "text": [
      "loss = 0.00047154093f0\n",
      "loss = 0.0004199794f0\n",
      "loss = 0.00037773474f0\n",
      "loss = 0.00034160906f0\n",
      "loss = 0.00030153667f0\n",
      "loss = 0.00027369193f0\n",
      "loss = 0.00023928605f0\n",
      "loss = 0.00021451578f0\n",
      "loss = 0.00018849276f0\n",
      "loss = 0.00016743841f0\n"
     ]
    },
    {
     "data": {
      "image/png": "[encoded data removed]",
      "text/plain": [
       "200×200 reshape(reinterpret(RGB{Float32}, ::Array{Float32,3}), 200, 200) with eltype RGB{Float32}:\n",
       " RGB{Float32}(0.0,0.0,0.0)  …  RGB{Float32}(0.0,0.0,0.0)\n",
       " RGB{Float32}(0.0,0.0,0.0)     RGB{Float32}(0.0,0.0,0.0)\n",
       " RGB{Float32}(0.0,0.0,0.0)     RGB{Float32}(0.0,0.0,0.0)\n",
       " RGB{Float32}(0.0,0.0,0.0)     RGB{Float32}(0.0,0.0,0.0)\n",
       " RGB{Float32}(0.0,0.0,0.0)     RGB{Float32}(0.0,0.0,0.0)\n",
       " RGB{Float32}(0.0,0.0,0.0)  …  RGB{Float32}(0.0,0.0,0.0)\n",
       " RGB{Float32}(0.0,0.0,0.0)     RGB{Float32}(0.0,0.0,0.0)\n",
       " RGB{Float32}(0.0,0.0,0.0)     RGB{Float32}(0.0,0.0,0.0)\n",
       " RGB{Float32}(0.0,0.0,0.0)     RGB{Float32}(0.0,0.0,0.0)\n",
       " RGB{Float32}(0.0,0.0,0.0)     RGB{Float32}(0.0,0.0,0.0)\n",
       " RGB{Float32}(0.0,0.0,0.0)  …  RGB{Float32}(0.0,0.0,0.0)\n",
       " RGB{Float32}(0.0,0.0,0.0)     RGB{Float32}(0.0,0.0,0.0)\n",
       " RGB{Float32}(0.0,0.0,0.0)     RGB{Float32}(0.0,0.0,0.0)\n",
       " ⋮                          ⋱                           \n",
       " RGB{Float32}(0.0,0.0,0.0)     RGB{Float32}(0.0,0.0,0.0)\n",
       " RGB{Float32}(0.0,0.0,0.0)     RGB{Float32}(0.0,0.0,0.0)\n",
       " RGB{Float32}(0.0,0.0,0.0)  …  RGB{Float32}(0.0,0.0,0.0)\n",
       " RGB{Float32}(0.0,0.0,0.0)     RGB{Float32}(0.0,0.0,0.0)\n",
       " RGB{Float32}(0.0,0.0,0.0)     RGB{Float32}(0.0,0.0,0.0)\n",
       " RGB{Float32}(0.0,0.0,0.0)     RGB{Float32}(0.0,0.0,0.0)\n",
       " RGB{Float32}(0.0,0.0,0.0)     RGB{Float32}(0.0,0.0,0.0)\n",
       " RGB{Float32}(0.0,0.0,0.0)  …  RGB{Float32}(0.0,0.0,0.0)\n",
       " RGB{Float32}(0.0,0.0,0.0)     RGB{Float32}(0.0,0.0,0.0)\n",
       " RGB{Float32}(0.0,0.0,0.0)     RGB{Float32}(0.0,0.0,0.0)\n",
       " RGB{Float32}(0.0,0.0,0.0)     RGB{Float32}(0.0,0.0,0.0)\n",
       " RGB{Float32}(0.0,0.0,0.0)     RGB{Float32}(0.0,0.0,0.0)"
      ]
     },
     "metadata": {},
     "output_type": "display_data"
    },
    {
     "name": "stderr",
     "output_type": "stream",
     "text": [
      "┌ Info: 41 iterations completed\n",
      "└ @ Main In[5]:26\n"
     ]
    },
    {
     "name": "stdout",
     "output_type": "stream",
     "text": [
      "loss = 0.0001422946f0\n",
      "loss = 0.00012642727f0\n",
      "loss = 0.000108912645f0\n",
      "loss = 9.2363865f-5\n",
      "loss = 7.9204954f-5\n",
      "loss = 6.66316f-5\n",
      "loss = 7.0524184f-5\n",
      "loss = 7.476473f-5\n",
      "loss = 8.3510684f-5\n",
      "loss = 9.0613794f-5\n"
     ]
    },
    {
     "data": {
      "image/png": "[encoded data removed]",
      "text/plain": [
       "200×200 reshape(reinterpret(RGB{Float32}, ::Array{Float32,3}), 200, 200) with eltype RGB{Float32}:\n",
       " RGB{Float32}(0.0,0.0,0.0)  …  RGB{Float32}(0.0,0.0,0.0)\n",
       " RGB{Float32}(0.0,0.0,0.0)     RGB{Float32}(0.0,0.0,0.0)\n",
       " RGB{Float32}(0.0,0.0,0.0)     RGB{Float32}(0.0,0.0,0.0)\n",
       " RGB{Float32}(0.0,0.0,0.0)     RGB{Float32}(0.0,0.0,0.0)\n",
       " RGB{Float32}(0.0,0.0,0.0)     RGB{Float32}(0.0,0.0,0.0)\n",
       " RGB{Float32}(0.0,0.0,0.0)  …  RGB{Float32}(0.0,0.0,0.0)\n",
       " RGB{Float32}(0.0,0.0,0.0)     RGB{Float32}(0.0,0.0,0.0)\n",
       " RGB{Float32}(0.0,0.0,0.0)     RGB{Float32}(0.0,0.0,0.0)\n",
       " RGB{Float32}(0.0,0.0,0.0)     RGB{Float32}(0.0,0.0,0.0)\n",
       " RGB{Float32}(0.0,0.0,0.0)     RGB{Float32}(0.0,0.0,0.0)\n",
       " RGB{Float32}(0.0,0.0,0.0)  …  RGB{Float32}(0.0,0.0,0.0)\n",
       " RGB{Float32}(0.0,0.0,0.0)     RGB{Float32}(0.0,0.0,0.0)\n",
       " RGB{Float32}(0.0,0.0,0.0)     RGB{Float32}(0.0,0.0,0.0)\n",
       " ⋮                          ⋱                           \n",
       " RGB{Float32}(0.0,0.0,0.0)     RGB{Float32}(0.0,0.0,0.0)\n",
       " RGB{Float32}(0.0,0.0,0.0)     RGB{Float32}(0.0,0.0,0.0)\n",
       " RGB{Float32}(0.0,0.0,0.0)  …  RGB{Float32}(0.0,0.0,0.0)\n",
       " RGB{Float32}(0.0,0.0,0.0)     RGB{Float32}(0.0,0.0,0.0)\n",
       " RGB{Float32}(0.0,0.0,0.0)     RGB{Float32}(0.0,0.0,0.0)\n",
       " RGB{Float32}(0.0,0.0,0.0)     RGB{Float32}(0.0,0.0,0.0)\n",
       " RGB{Float32}(0.0,0.0,0.0)     RGB{Float32}(0.0,0.0,0.0)\n",
       " RGB{Float32}(0.0,0.0,0.0)  …  RGB{Float32}(0.0,0.0,0.0)\n",
       " RGB{Float32}(0.0,0.0,0.0)     RGB{Float32}(0.0,0.0,0.0)\n",
       " RGB{Float32}(0.0,0.0,0.0)     RGB{Float32}(0.0,0.0,0.0)\n",
       " RGB{Float32}(0.0,0.0,0.0)     RGB{Float32}(0.0,0.0,0.0)\n",
       " RGB{Float32}(0.0,0.0,0.0)     RGB{Float32}(0.0,0.0,0.0)"
      ]
     },
     "metadata": {},
     "output_type": "display_data"
    },
    {
     "name": "stderr",
     "output_type": "stream",
     "text": [
      "┌ Info: 51 iterations completed\n",
      "└ @ Main In[5]:26\n"
     ]
    }
   ],
   "source": [
    "opt = ADAM(0.1)\n",
    "image_gt = render(scene_gt, light_gt)\n",
    "showimg(image_gt)\n",
    "\n",
    "for i in 1:51\n",
    "    # Take gradient of the following function\n",
    "    grads = gradient(scene, light) do S, L\n",
    "        # First, render according to our current light and scene\n",
    "        image_rendered = render(S, L)\n",
    "        \n",
    "        # Normalize \n",
    "        loss = mean((zeroonenorm(image_rendered) .- zeroonenorm(image_gt)).^2)\n",
    "        \n",
    "        # Show the current loss\n",
    "        @show loss\n",
    "        \n",
    "        # Return this loss as what is to be minimized\n",
    "        return loss\n",
    "    end\n",
    "    \n",
    "    # Update our light position and triangle color based upon those gradients\n",
    "    #update!(opt, scene[1].material.color.color, grads[1][1].material.color.color)\n",
    "    update!(opt, light.position, grads[2].position)\n",
    "    \n",
    "    if i % 10 == 1\n",
    "        @info \"$i iterations completed\"\n",
    "        display(showimg(render(scene, light)))\n",
    "    end\n",
    "end\n"
   ]
  },
  {
   "cell_type": "code",
   "execution_count": 29,
   "metadata": {},
   "outputs": [
    {
     "data": {
      "text/plain": [
       "PointLight{Float32}(Vec3{Array{Float32,1}}(Float32[1.0], Float32[1.0], Float32[0.0]), 20000.0f0, Vec3{Array{Float32,1}}(Float32[3.6], Float32[3.0], Float32[-10.0]))"
      ]
     },
     "execution_count": 29,
     "metadata": {},
     "output_type": "execute_result"
    }
   ],
   "source": [
    "light_gt"
   ]
  },
  {
   "cell_type": "code",
   "execution_count": 30,
   "metadata": {},
   "outputs": [
    {
     "data": {
      "text/plain": [
       "PointLight{Float32}(Vec3{Array{Float32,1}}(Float32[1.0], Float32[1.0], Float32[0.0]), 20000.0f0, Vec3{Array{Float32,1}}(Float32[4.18166], Float32[2.4189723], Float32[-9.362359]))"
      ]
     },
     "execution_count": 30,
     "metadata": {},
     "output_type": "execute_result"
    }
   ],
   "source": [
    "light"
   ]
  },
  {
   "cell_type": "code",
   "execution_count": null,
   "metadata": {},
   "outputs": [],
   "source": []
  }
 ],
 "metadata": {
  "@webio": {
   "lastCommId": "e9093c0c8dad457588f81472931472b9",
   "lastKernelId": "3aaa1a97-827f-4637-bc4e-d0441e25b609"
  },
  "kernelspec": {
   "display_name": "Julia 1.2.0-rc1",
   "language": "julia",
   "name": "julia-1.2"
  },
  "language_info": {
   "file_extension": ".jl",
   "mimetype": "application/julia",
   "name": "julia",
   "version": "1.2.0"
  }
 },
 "nbformat": 4,
 "nbformat_minor": 2
}
